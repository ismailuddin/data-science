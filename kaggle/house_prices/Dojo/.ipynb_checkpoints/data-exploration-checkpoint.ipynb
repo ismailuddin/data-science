{
 "cells": [
  {
   "cell_type": "code",
   "execution_count": 2,
   "metadata": {
    "collapsed": true
   },
   "outputs": [],
   "source": [
    "import pandas as pd\n",
    "import matplotlib.pyplot as plt\n",
    "import seaborn as sns"
   ]
  },
  {
   "cell_type": "code",
   "execution_count": 3,
   "metadata": {
    "collapsed": true
   },
   "outputs": [],
   "source": [
    "train = pd.read_csv('train.csv')"
   ]
  },
  {
   "cell_type": "code",
   "execution_count": 53,
   "metadata": {
    "collapsed": false
   },
   "outputs": [
    {
     "data": {
      "text/html": [
       "<div>\n",
       "<table border=\"1\" class=\"dataframe\">\n",
       "  <thead>\n",
       "    <tr style=\"text-align: right;\">\n",
       "      <th></th>\n",
       "      <th>Id</th>\n",
       "      <th>MSSubClass</th>\n",
       "      <th>MSZoning</th>\n",
       "      <th>LotFrontage</th>\n",
       "      <th>LotArea</th>\n",
       "      <th>Street</th>\n",
       "      <th>Alley</th>\n",
       "      <th>LotShape</th>\n",
       "      <th>LandContour</th>\n",
       "      <th>Utilities</th>\n",
       "      <th>...</th>\n",
       "      <th>PoolArea</th>\n",
       "      <th>PoolQC</th>\n",
       "      <th>Fence</th>\n",
       "      <th>MiscFeature</th>\n",
       "      <th>MiscVal</th>\n",
       "      <th>MoSold</th>\n",
       "      <th>YrSold</th>\n",
       "      <th>SaleType</th>\n",
       "      <th>SaleCondition</th>\n",
       "      <th>SalePrice</th>\n",
       "    </tr>\n",
       "  </thead>\n",
       "  <tbody>\n",
       "    <tr>\n",
       "      <th>0</th>\n",
       "      <td>1</td>\n",
       "      <td>60</td>\n",
       "      <td>RL</td>\n",
       "      <td>65.0</td>\n",
       "      <td>8450</td>\n",
       "      <td>Pave</td>\n",
       "      <td>NaN</td>\n",
       "      <td>Reg</td>\n",
       "      <td>Lvl</td>\n",
       "      <td>AllPub</td>\n",
       "      <td>...</td>\n",
       "      <td>0</td>\n",
       "      <td>NaN</td>\n",
       "      <td>NaN</td>\n",
       "      <td>NaN</td>\n",
       "      <td>0</td>\n",
       "      <td>2</td>\n",
       "      <td>2008</td>\n",
       "      <td>WD</td>\n",
       "      <td>Normal</td>\n",
       "      <td>208500</td>\n",
       "    </tr>\n",
       "    <tr>\n",
       "      <th>1</th>\n",
       "      <td>2</td>\n",
       "      <td>20</td>\n",
       "      <td>RL</td>\n",
       "      <td>80.0</td>\n",
       "      <td>9600</td>\n",
       "      <td>Pave</td>\n",
       "      <td>NaN</td>\n",
       "      <td>Reg</td>\n",
       "      <td>Lvl</td>\n",
       "      <td>AllPub</td>\n",
       "      <td>...</td>\n",
       "      <td>0</td>\n",
       "      <td>NaN</td>\n",
       "      <td>NaN</td>\n",
       "      <td>NaN</td>\n",
       "      <td>0</td>\n",
       "      <td>5</td>\n",
       "      <td>2007</td>\n",
       "      <td>WD</td>\n",
       "      <td>Normal</td>\n",
       "      <td>181500</td>\n",
       "    </tr>\n",
       "    <tr>\n",
       "      <th>2</th>\n",
       "      <td>3</td>\n",
       "      <td>60</td>\n",
       "      <td>RL</td>\n",
       "      <td>68.0</td>\n",
       "      <td>11250</td>\n",
       "      <td>Pave</td>\n",
       "      <td>NaN</td>\n",
       "      <td>IR1</td>\n",
       "      <td>Lvl</td>\n",
       "      <td>AllPub</td>\n",
       "      <td>...</td>\n",
       "      <td>0</td>\n",
       "      <td>NaN</td>\n",
       "      <td>NaN</td>\n",
       "      <td>NaN</td>\n",
       "      <td>0</td>\n",
       "      <td>9</td>\n",
       "      <td>2008</td>\n",
       "      <td>WD</td>\n",
       "      <td>Normal</td>\n",
       "      <td>223500</td>\n",
       "    </tr>\n",
       "    <tr>\n",
       "      <th>3</th>\n",
       "      <td>4</td>\n",
       "      <td>70</td>\n",
       "      <td>RL</td>\n",
       "      <td>60.0</td>\n",
       "      <td>9550</td>\n",
       "      <td>Pave</td>\n",
       "      <td>NaN</td>\n",
       "      <td>IR1</td>\n",
       "      <td>Lvl</td>\n",
       "      <td>AllPub</td>\n",
       "      <td>...</td>\n",
       "      <td>0</td>\n",
       "      <td>NaN</td>\n",
       "      <td>NaN</td>\n",
       "      <td>NaN</td>\n",
       "      <td>0</td>\n",
       "      <td>2</td>\n",
       "      <td>2006</td>\n",
       "      <td>WD</td>\n",
       "      <td>Abnorml</td>\n",
       "      <td>140000</td>\n",
       "    </tr>\n",
       "    <tr>\n",
       "      <th>4</th>\n",
       "      <td>5</td>\n",
       "      <td>60</td>\n",
       "      <td>RL</td>\n",
       "      <td>84.0</td>\n",
       "      <td>14260</td>\n",
       "      <td>Pave</td>\n",
       "      <td>NaN</td>\n",
       "      <td>IR1</td>\n",
       "      <td>Lvl</td>\n",
       "      <td>AllPub</td>\n",
       "      <td>...</td>\n",
       "      <td>0</td>\n",
       "      <td>NaN</td>\n",
       "      <td>NaN</td>\n",
       "      <td>NaN</td>\n",
       "      <td>0</td>\n",
       "      <td>12</td>\n",
       "      <td>2008</td>\n",
       "      <td>WD</td>\n",
       "      <td>Normal</td>\n",
       "      <td>250000</td>\n",
       "    </tr>\n",
       "  </tbody>\n",
       "</table>\n",
       "<p>5 rows × 81 columns</p>\n",
       "</div>"
      ],
      "text/plain": [
       "   Id  MSSubClass MSZoning  LotFrontage  LotArea Street Alley LotShape  \\\n",
       "0   1          60       RL         65.0     8450   Pave   NaN      Reg   \n",
       "1   2          20       RL         80.0     9600   Pave   NaN      Reg   \n",
       "2   3          60       RL         68.0    11250   Pave   NaN      IR1   \n",
       "3   4          70       RL         60.0     9550   Pave   NaN      IR1   \n",
       "4   5          60       RL         84.0    14260   Pave   NaN      IR1   \n",
       "\n",
       "  LandContour Utilities    ...     PoolArea PoolQC Fence MiscFeature MiscVal  \\\n",
       "0         Lvl    AllPub    ...            0    NaN   NaN         NaN       0   \n",
       "1         Lvl    AllPub    ...            0    NaN   NaN         NaN       0   \n",
       "2         Lvl    AllPub    ...            0    NaN   NaN         NaN       0   \n",
       "3         Lvl    AllPub    ...            0    NaN   NaN         NaN       0   \n",
       "4         Lvl    AllPub    ...            0    NaN   NaN         NaN       0   \n",
       "\n",
       "  MoSold YrSold  SaleType  SaleCondition  SalePrice  \n",
       "0      2   2008        WD         Normal     208500  \n",
       "1      5   2007        WD         Normal     181500  \n",
       "2      9   2008        WD         Normal     223500  \n",
       "3      2   2006        WD        Abnorml     140000  \n",
       "4     12   2008        WD         Normal     250000  \n",
       "\n",
       "[5 rows x 81 columns]"
      ]
     },
     "execution_count": 53,
     "metadata": {},
     "output_type": "execute_result"
    }
   ],
   "source": [
    "train.head()"
   ]
  },
  {
   "cell_type": "code",
   "execution_count": 73,
   "metadata": {
    "collapsed": false
   },
   "outputs": [],
   "source": [
    "list1 = pd.DataFrame(train.dtypes != object)[0].values.tolist()"
   ]
  },
  {
   "cell_type": "code",
   "execution_count": 75,
   "metadata": {
    "collapsed": false
   },
   "outputs": [],
   "source": [
    "train = train.loc[:,list1]"
   ]
  },
  {
   "cell_type": "code",
   "execution_count": 76,
   "metadata": {
    "collapsed": false
   },
   "outputs": [
    {
     "data": {
      "text/html": [
       "<div>\n",
       "<table border=\"1\" class=\"dataframe\">\n",
       "  <thead>\n",
       "    <tr style=\"text-align: right;\">\n",
       "      <th></th>\n",
       "      <th>Id</th>\n",
       "      <th>MSSubClass</th>\n",
       "      <th>LotFrontage</th>\n",
       "      <th>LotArea</th>\n",
       "      <th>OverallQual</th>\n",
       "      <th>OverallCond</th>\n",
       "      <th>YearBuilt</th>\n",
       "      <th>YearRemodAdd</th>\n",
       "      <th>MasVnrArea</th>\n",
       "      <th>BsmtFinSF1</th>\n",
       "      <th>...</th>\n",
       "      <th>WoodDeckSF</th>\n",
       "      <th>OpenPorchSF</th>\n",
       "      <th>EnclosedPorch</th>\n",
       "      <th>3SsnPorch</th>\n",
       "      <th>ScreenPorch</th>\n",
       "      <th>PoolArea</th>\n",
       "      <th>MiscVal</th>\n",
       "      <th>MoSold</th>\n",
       "      <th>YrSold</th>\n",
       "      <th>SalePrice</th>\n",
       "    </tr>\n",
       "  </thead>\n",
       "  <tbody>\n",
       "    <tr>\n",
       "      <th>0</th>\n",
       "      <td>1</td>\n",
       "      <td>60</td>\n",
       "      <td>65.0</td>\n",
       "      <td>8450</td>\n",
       "      <td>7</td>\n",
       "      <td>5</td>\n",
       "      <td>2003</td>\n",
       "      <td>2003</td>\n",
       "      <td>196.0</td>\n",
       "      <td>706</td>\n",
       "      <td>...</td>\n",
       "      <td>0</td>\n",
       "      <td>61</td>\n",
       "      <td>0</td>\n",
       "      <td>0</td>\n",
       "      <td>0</td>\n",
       "      <td>0</td>\n",
       "      <td>0</td>\n",
       "      <td>2</td>\n",
       "      <td>2008</td>\n",
       "      <td>208500</td>\n",
       "    </tr>\n",
       "    <tr>\n",
       "      <th>1</th>\n",
       "      <td>2</td>\n",
       "      <td>20</td>\n",
       "      <td>80.0</td>\n",
       "      <td>9600</td>\n",
       "      <td>6</td>\n",
       "      <td>8</td>\n",
       "      <td>1976</td>\n",
       "      <td>1976</td>\n",
       "      <td>0.0</td>\n",
       "      <td>978</td>\n",
       "      <td>...</td>\n",
       "      <td>298</td>\n",
       "      <td>0</td>\n",
       "      <td>0</td>\n",
       "      <td>0</td>\n",
       "      <td>0</td>\n",
       "      <td>0</td>\n",
       "      <td>0</td>\n",
       "      <td>5</td>\n",
       "      <td>2007</td>\n",
       "      <td>181500</td>\n",
       "    </tr>\n",
       "    <tr>\n",
       "      <th>2</th>\n",
       "      <td>3</td>\n",
       "      <td>60</td>\n",
       "      <td>68.0</td>\n",
       "      <td>11250</td>\n",
       "      <td>7</td>\n",
       "      <td>5</td>\n",
       "      <td>2001</td>\n",
       "      <td>2002</td>\n",
       "      <td>162.0</td>\n",
       "      <td>486</td>\n",
       "      <td>...</td>\n",
       "      <td>0</td>\n",
       "      <td>42</td>\n",
       "      <td>0</td>\n",
       "      <td>0</td>\n",
       "      <td>0</td>\n",
       "      <td>0</td>\n",
       "      <td>0</td>\n",
       "      <td>9</td>\n",
       "      <td>2008</td>\n",
       "      <td>223500</td>\n",
       "    </tr>\n",
       "    <tr>\n",
       "      <th>3</th>\n",
       "      <td>4</td>\n",
       "      <td>70</td>\n",
       "      <td>60.0</td>\n",
       "      <td>9550</td>\n",
       "      <td>7</td>\n",
       "      <td>5</td>\n",
       "      <td>1915</td>\n",
       "      <td>1970</td>\n",
       "      <td>0.0</td>\n",
       "      <td>216</td>\n",
       "      <td>...</td>\n",
       "      <td>0</td>\n",
       "      <td>35</td>\n",
       "      <td>272</td>\n",
       "      <td>0</td>\n",
       "      <td>0</td>\n",
       "      <td>0</td>\n",
       "      <td>0</td>\n",
       "      <td>2</td>\n",
       "      <td>2006</td>\n",
       "      <td>140000</td>\n",
       "    </tr>\n",
       "    <tr>\n",
       "      <th>4</th>\n",
       "      <td>5</td>\n",
       "      <td>60</td>\n",
       "      <td>84.0</td>\n",
       "      <td>14260</td>\n",
       "      <td>8</td>\n",
       "      <td>5</td>\n",
       "      <td>2000</td>\n",
       "      <td>2000</td>\n",
       "      <td>350.0</td>\n",
       "      <td>655</td>\n",
       "      <td>...</td>\n",
       "      <td>192</td>\n",
       "      <td>84</td>\n",
       "      <td>0</td>\n",
       "      <td>0</td>\n",
       "      <td>0</td>\n",
       "      <td>0</td>\n",
       "      <td>0</td>\n",
       "      <td>12</td>\n",
       "      <td>2008</td>\n",
       "      <td>250000</td>\n",
       "    </tr>\n",
       "  </tbody>\n",
       "</table>\n",
       "<p>5 rows × 38 columns</p>\n",
       "</div>"
      ],
      "text/plain": [
       "   Id  MSSubClass  LotFrontage  LotArea  OverallQual  OverallCond  YearBuilt  \\\n",
       "0   1          60         65.0     8450            7            5       2003   \n",
       "1   2          20         80.0     9600            6            8       1976   \n",
       "2   3          60         68.0    11250            7            5       2001   \n",
       "3   4          70         60.0     9550            7            5       1915   \n",
       "4   5          60         84.0    14260            8            5       2000   \n",
       "\n",
       "   YearRemodAdd  MasVnrArea  BsmtFinSF1    ...      WoodDeckSF  OpenPorchSF  \\\n",
       "0          2003       196.0         706    ...               0           61   \n",
       "1          1976         0.0         978    ...             298            0   \n",
       "2          2002       162.0         486    ...               0           42   \n",
       "3          1970         0.0         216    ...               0           35   \n",
       "4          2000       350.0         655    ...             192           84   \n",
       "\n",
       "   EnclosedPorch  3SsnPorch  ScreenPorch  PoolArea  MiscVal  MoSold  YrSold  \\\n",
       "0              0          0            0         0        0       2    2008   \n",
       "1              0          0            0         0        0       5    2007   \n",
       "2              0          0            0         0        0       9    2008   \n",
       "3            272          0            0         0        0       2    2006   \n",
       "4              0          0            0         0        0      12    2008   \n",
       "\n",
       "   SalePrice  \n",
       "0     208500  \n",
       "1     181500  \n",
       "2     223500  \n",
       "3     140000  \n",
       "4     250000  \n",
       "\n",
       "[5 rows x 38 columns]"
      ]
     },
     "execution_count": 76,
     "metadata": {},
     "output_type": "execute_result"
    }
   ],
   "source": [
    "train.head()"
   ]
  },
  {
   "cell_type": "code",
   "execution_count": 78,
   "metadata": {
    "collapsed": false
   },
   "outputs": [
    {
     "data": {
      "text/plain": [
       "(1460, 38)"
      ]
     },
     "execution_count": 78,
     "metadata": {},
     "output_type": "execute_result"
    }
   ],
   "source": [
    "train.shape"
   ]
  },
  {
   "cell_type": "code",
   "execution_count": 10,
   "metadata": {
    "collapsed": false
   },
   "outputs": [
    {
     "data": {
      "text/plain": [
       "(1460, 81)"
      ]
     },
     "execution_count": 10,
     "metadata": {},
     "output_type": "execute_result"
    }
   ],
   "source": [
    "train.shape"
   ]
  },
  {
   "cell_type": "code",
   "execution_count": 11,
   "metadata": {
    "collapsed": false
   },
   "outputs": [
    {
     "name": "stdout",
     "output_type": "stream",
     "text": [
      "Id 1460\n",
      "MSSubClass 15\n",
      "MSZoning 5\n",
      "LotFrontage 111\n",
      "LotArea 1073\n",
      "Street 2\n",
      "Alley 3\n",
      "LotShape 4\n",
      "LandContour 4\n",
      "Utilities 2\n",
      "LotConfig 5\n",
      "LandSlope 3\n",
      "Neighborhood 25\n",
      "Condition1 9\n",
      "Condition2 8\n",
      "BldgType 5\n",
      "HouseStyle 8\n",
      "OverallQual 10\n",
      "OverallCond 9\n",
      "YearBuilt 112\n",
      "YearRemodAdd 61\n",
      "RoofStyle 6\n",
      "RoofMatl 8\n",
      "Exterior1st 15\n",
      "Exterior2nd 16\n",
      "MasVnrType 5\n",
      "MasVnrArea 328\n",
      "ExterQual 4\n",
      "ExterCond 5\n",
      "Foundation 6\n",
      "BsmtQual 5\n",
      "BsmtCond 5\n",
      "BsmtExposure 5\n",
      "BsmtFinType1 7\n",
      "BsmtFinSF1 637\n",
      "BsmtFinType2 7\n",
      "BsmtFinSF2 144\n",
      "BsmtUnfSF 780\n",
      "TotalBsmtSF 721\n",
      "Heating 6\n",
      "HeatingQC 5\n",
      "CentralAir 2\n",
      "Electrical 6\n",
      "1stFlrSF 753\n",
      "2ndFlrSF 417\n",
      "LowQualFinSF 24\n",
      "GrLivArea 861\n",
      "BsmtFullBath 4\n",
      "BsmtHalfBath 3\n",
      "FullBath 4\n",
      "HalfBath 3\n",
      "BedroomAbvGr 8\n",
      "KitchenAbvGr 4\n",
      "KitchenQual 4\n",
      "TotRmsAbvGrd 12\n",
      "Functional 7\n",
      "Fireplaces 4\n",
      "FireplaceQu 6\n",
      "GarageType 7\n",
      "GarageYrBlt 98\n",
      "GarageFinish 4\n",
      "GarageCars 5\n",
      "GarageArea 441\n",
      "GarageQual 6\n",
      "GarageCond 6\n",
      "PavedDrive 3\n",
      "WoodDeckSF 274\n",
      "OpenPorchSF 202\n",
      "EnclosedPorch 120\n",
      "3SsnPorch 20\n",
      "ScreenPorch 76\n",
      "PoolArea 8\n",
      "PoolQC 4\n",
      "Fence 5\n",
      "MiscFeature 5\n",
      "MiscVal 21\n",
      "MoSold 12\n",
      "YrSold 5\n",
      "SaleType 9\n",
      "SaleCondition 6\n",
      "SalePrice 663\n"
     ]
    }
   ],
   "source": [
    "for i in train.columns.tolist():\n",
    "    print i, len(train[i].unique())"
   ]
  },
  {
   "cell_type": "code",
   "execution_count": null,
   "metadata": {
    "collapsed": true
   },
   "outputs": [],
   "source": []
  },
  {
   "cell_type": "code",
   "execution_count": 28,
   "metadata": {
    "collapsed": false
   },
   "outputs": [],
   "source": [
    "#train[\"BsmtFinSF1\"]"
   ]
  },
  {
   "cell_type": "code",
   "execution_count": 22,
   "metadata": {
    "collapsed": true
   },
   "outputs": [],
   "source": [
    "from sklearn.ensemble import RandomForestRegressor\n",
    "from sklearn.preprocessing import Imputer\n",
    "from sklearn.decomposition import PCA\n",
    "from sklearn.grid_search import GridSearchCV\n",
    "from sklearn.pipeline import Pipeline"
   ]
  },
  {
   "cell_type": "code",
   "execution_count": 114,
   "metadata": {
    "collapsed": false
   },
   "outputs": [],
   "source": [
    "X_train = train.drop(\"SalePrice\",axis=1)"
   ]
  },
  {
   "cell_type": "code",
   "execution_count": 115,
   "metadata": {
    "collapsed": true
   },
   "outputs": [],
   "source": [
    "y_train = train[\"SalePrice\"]"
   ]
  },
  {
   "cell_type": "code",
   "execution_count": 126,
   "metadata": {
    "collapsed": false
   },
   "outputs": [],
   "source": [
    "steps = [('imputer', Imputer()),\n",
    "         ('pca', PCA()),\n",
    "         ('rf', RandomForestRegressor(random_state = 15546))]\n",
    "pipe = Pipeline(steps)\n",
    "\n",
    "# create the grid search\n",
    "params = dict(\n",
    "    pca__n_components= [10,20,30,37],\n",
    "    imputer__strategy= ['mean', 'median', 'most_frequent'],\n",
    "    rf__n_estimators= [5, 20]\n",
    ")"
   ]
  },
  {
   "cell_type": "code",
   "execution_count": 127,
   "metadata": {
    "collapsed": true
   },
   "outputs": [],
   "source": [
    "est_1 = GridSearchCV(pipe, param_grid=params, n_jobs=-1, verbose=3,cv=3)"
   ]
  },
  {
   "cell_type": "code",
   "execution_count": 128,
   "metadata": {
    "collapsed": false
   },
   "outputs": [
    {
     "name": "stdout",
     "output_type": "stream",
     "text": [
      "Fitting 3 folds for each of 24 candidates, totalling 72 fits\n"
     ]
    },
    {
     "name": "stderr",
     "output_type": "stream",
     "text": [
      "[Parallel(n_jobs=-1)]: Done  16 tasks      | elapsed:    6.0s\n",
      "[Parallel(n_jobs=-1)]: Done  72 out of  72 | elapsed:   11.2s finished\n"
     ]
    },
    {
     "data": {
      "text/plain": [
       "GridSearchCV(cv=3, error_score='raise',\n",
       "       estimator=Pipeline(steps=[('imputer', Imputer(axis=0, copy=True, missing_values='NaN', strategy='mean', verbose=0)), ('pca', PCA(copy=True, n_components=None, whiten=False)), ('rf', RandomForestRegressor(bootstrap=True, criterion='mse', max_depth=None,\n",
       "           max_features='auto', max_leaf_nodes=...mators=10, n_jobs=1, oob_score=False, random_state=15546,\n",
       "           verbose=0, warm_start=False))]),\n",
       "       fit_params={}, iid=True, n_jobs=-1,\n",
       "       param_grid={'imputer__strategy': ['mean', 'median', 'most_frequent'], 'pca__n_components': [10, 20, 30, 37], 'rf__n_estimators': [5, 20]},\n",
       "       pre_dispatch='2*n_jobs', refit=True, scoring=None, verbose=3)"
      ]
     },
     "execution_count": 128,
     "metadata": {},
     "output_type": "execute_result"
    }
   ],
   "source": [
    "est_1.fit(X_train,y_train)"
   ]
  },
  {
   "cell_type": "code",
   "execution_count": 129,
   "metadata": {
    "collapsed": false
   },
   "outputs": [
    {
     "data": {
      "text/plain": [
       "[mean: 0.67624, std: 0.03023, params: {'imputer__strategy': 'mean', 'pca__n_components': 10, 'rf__n_estimators': 5},\n",
       " mean: 0.73196, std: 0.02130, params: {'imputer__strategy': 'mean', 'pca__n_components': 10, 'rf__n_estimators': 20},\n",
       " mean: 0.72132, std: 0.04388, params: {'imputer__strategy': 'mean', 'pca__n_components': 20, 'rf__n_estimators': 5},\n",
       " mean: 0.77017, std: 0.02505, params: {'imputer__strategy': 'mean', 'pca__n_components': 20, 'rf__n_estimators': 20},\n",
       " mean: 0.75267, std: 0.02372, params: {'imputer__strategy': 'mean', 'pca__n_components': 30, 'rf__n_estimators': 5},\n",
       " mean: 0.78732, std: 0.02556, params: {'imputer__strategy': 'mean', 'pca__n_components': 30, 'rf__n_estimators': 20},\n",
       " mean: 0.71890, std: 0.03244, params: {'imputer__strategy': 'mean', 'pca__n_components': 37, 'rf__n_estimators': 5},\n",
       " mean: 0.76938, std: 0.02936, params: {'imputer__strategy': 'mean', 'pca__n_components': 37, 'rf__n_estimators': 20},\n",
       " mean: 0.67433, std: 0.03064, params: {'imputer__strategy': 'median', 'pca__n_components': 10, 'rf__n_estimators': 5},\n",
       " mean: 0.73019, std: 0.02428, params: {'imputer__strategy': 'median', 'pca__n_components': 10, 'rf__n_estimators': 20},\n",
       " mean: 0.72165, std: 0.04970, params: {'imputer__strategy': 'median', 'pca__n_components': 20, 'rf__n_estimators': 5},\n",
       " mean: 0.76537, std: 0.02495, params: {'imputer__strategy': 'median', 'pca__n_components': 20, 'rf__n_estimators': 20},\n",
       " mean: 0.74755, std: 0.02777, params: {'imputer__strategy': 'median', 'pca__n_components': 30, 'rf__n_estimators': 5},\n",
       " mean: 0.77813, std: 0.02577, params: {'imputer__strategy': 'median', 'pca__n_components': 30, 'rf__n_estimators': 20},\n",
       " mean: 0.72628, std: 0.03942, params: {'imputer__strategy': 'median', 'pca__n_components': 37, 'rf__n_estimators': 5},\n",
       " mean: 0.77480, std: 0.03301, params: {'imputer__strategy': 'median', 'pca__n_components': 37, 'rf__n_estimators': 20},\n",
       " mean: 0.67922, std: 0.03661, params: {'imputer__strategy': 'most_frequent', 'pca__n_components': 10, 'rf__n_estimators': 5},\n",
       " mean: 0.73259, std: 0.02451, params: {'imputer__strategy': 'most_frequent', 'pca__n_components': 10, 'rf__n_estimators': 20},\n",
       " mean: 0.73267, std: 0.02740, params: {'imputer__strategy': 'most_frequent', 'pca__n_components': 20, 'rf__n_estimators': 5},\n",
       " mean: 0.77059, std: 0.02628, params: {'imputer__strategy': 'most_frequent', 'pca__n_components': 20, 'rf__n_estimators': 20},\n",
       " mean: 0.75330, std: 0.02582, params: {'imputer__strategy': 'most_frequent', 'pca__n_components': 30, 'rf__n_estimators': 5},\n",
       " mean: 0.78095, std: 0.02557, params: {'imputer__strategy': 'most_frequent', 'pca__n_components': 30, 'rf__n_estimators': 20},\n",
       " mean: 0.72667, std: 0.06866, params: {'imputer__strategy': 'most_frequent', 'pca__n_components': 37, 'rf__n_estimators': 5},\n",
       " mean: 0.77316, std: 0.04270, params: {'imputer__strategy': 'most_frequent', 'pca__n_components': 37, 'rf__n_estimators': 20}]"
      ]
     },
     "execution_count": 129,
     "metadata": {},
     "output_type": "execute_result"
    }
   ],
   "source": [
    "est_1.grid_scores_"
   ]
  },
  {
   "cell_type": "code",
   "execution_count": 94,
   "metadata": {
    "collapsed": false
   },
   "outputs": [],
   "source": [
    "X_train2 = train.drop(\"SalePrice\",axis=1).copy()"
   ]
  },
  {
   "cell_type": "code",
   "execution_count": 95,
   "metadata": {
    "collapsed": true
   },
   "outputs": [],
   "source": [
    "X_train2 = X_train2.fillna(0)"
   ]
  },
  {
   "cell_type": "code",
   "execution_count": 96,
   "metadata": {
    "collapsed": true
   },
   "outputs": [],
   "source": [
    "rf_1 = RandomForestRegressor(random_state = 15546)"
   ]
  },
  {
   "cell_type": "code",
   "execution_count": 105,
   "metadata": {
    "collapsed": true
   },
   "outputs": [],
   "source": [
    "params2 = dict(\n",
    "    n_estimators= [5, 10, 20]\n",
    ")"
   ]
  },
  {
   "cell_type": "code",
   "execution_count": 108,
   "metadata": {
    "collapsed": true
   },
   "outputs": [],
   "source": [
    "est_2 = GridSearchCV(rf_1, param_grid=params2, n_jobs=1, verbose=3,cv=3)"
   ]
  },
  {
   "cell_type": "code",
   "execution_count": 109,
   "metadata": {
    "collapsed": false
   },
   "outputs": [
    {
     "name": "stdout",
     "output_type": "stream",
     "text": [
      "Fitting 3 folds for each of 3 candidates, totalling 9 fits\n",
      "[CV] n_estimators=5 ..................................................\n",
      "[CV] ......................... n_estimators=5, score=0.857057 -   0.0s\n",
      "[CV] n_estimators=5 ..................................................\n",
      "[CV] ......................... n_estimators=5, score=0.836827 -   0.0s\n",
      "[CV] n_estimators=5 ..................................................\n",
      "[CV] ......................... n_estimators=5, score=0.779666 -   0.0s\n",
      "[CV] n_estimators=10 .................................................\n",
      "[CV] ........................ n_estimators=10, score=0.863501 -   0.0s\n",
      "[CV] n_estimators=10 .................................................\n",
      "[CV] ........................ n_estimators=10, score=0.840485 -   0.0s\n",
      "[CV] n_estimators=10 .................................................\n",
      "[CV] ........................ n_estimators=10, score=0.803540 -   0.0s\n",
      "[CV] n_estimators=20 .................................................\n",
      "[CV] ........................ n_estimators=20, score=0.875533 -   0.1s\n",
      "[CV] n_estimators=20 .................................................\n",
      "[CV] ........................ n_estimators=20, score=0.842218 -   0.1s\n",
      "[CV] n_estimators=20 .................................................\n",
      "[CV] ........................ n_estimators=20, score=0.812939 -   0.2s\n"
     ]
    },
    {
     "name": "stderr",
     "output_type": "stream",
     "text": [
      "[Parallel(n_jobs=1)]: Done   9 out of   9 | elapsed:    1.3s finished\n"
     ]
    },
    {
     "data": {
      "text/plain": [
       "GridSearchCV(cv=3, error_score='raise',\n",
       "       estimator=RandomForestRegressor(bootstrap=True, criterion='mse', max_depth=None,\n",
       "           max_features='auto', max_leaf_nodes=None, min_samples_leaf=1,\n",
       "           min_samples_split=2, min_weight_fraction_leaf=0.0,\n",
       "           n_estimators=10, n_jobs=1, oob_score=False, random_state=15546,\n",
       "           verbose=0, warm_start=False),\n",
       "       fit_params={}, iid=True, n_jobs=1,\n",
       "       param_grid={'n_estimators': [5, 10, 20]}, pre_dispatch='2*n_jobs',\n",
       "       refit=True, scoring=None, verbose=3)"
      ]
     },
     "execution_count": 109,
     "metadata": {},
     "output_type": "execute_result"
    }
   ],
   "source": [
    "est_2.fit(X_train2, y_train)"
   ]
  },
  {
   "cell_type": "code",
   "execution_count": 112,
   "metadata": {
    "collapsed": false
   },
   "outputs": [
    {
     "data": {
      "text/plain": [
       "[mean: 0.82455, std: 0.03277, params: {'n_estimators': 5},\n",
       " mean: 0.83586, std: 0.02470, params: {'n_estimators': 10},\n",
       " mean: 0.84358, std: 0.02557, params: {'n_estimators': 20}]"
      ]
     },
     "execution_count": 112,
     "metadata": {},
     "output_type": "execute_result"
    }
   ],
   "source": [
    "est_2.grid_scores_"
   ]
  },
  {
   "cell_type": "code",
   "execution_count": 113,
   "metadata": {
    "collapsed": false
   },
   "outputs": [
    {
     "data": {
      "text/plain": [
       "{'n_estimators': 20}"
      ]
     },
     "execution_count": 113,
     "metadata": {},
     "output_type": "execute_result"
    }
   ],
   "source": [
    "est_2.best_params_"
   ]
  },
  {
   "cell_type": "code",
   "execution_count": 86,
   "metadata": {
    "collapsed": false
   },
   "outputs": [
    {
     "data": {
      "text/plain": [
       "RandomForestRegressor(bootstrap=True, criterion='mse', max_depth=None,\n",
       "           max_features='auto', max_leaf_nodes=None, min_samples_leaf=1,\n",
       "           min_samples_split=2, min_weight_fraction_leaf=0.0,\n",
       "           n_estimators=10, n_jobs=1, oob_score=False, random_state=15546,\n",
       "           verbose=0, warm_start=False)"
      ]
     },
     "execution_count": 86,
     "metadata": {},
     "output_type": "execute_result"
    }
   ],
   "source": [
    "rf_1.fit(X_train2, y_train)"
   ]
  },
  {
   "cell_type": "code",
   "execution_count": 90,
   "metadata": {
    "collapsed": false
   },
   "outputs": [
    {
     "data": {
      "text/plain": [
       "0.97330227635086652"
      ]
     },
     "execution_count": 90,
     "metadata": {},
     "output_type": "execute_result"
    }
   ],
   "source": [
    "rf_1.score(X_train2,y_train)"
   ]
  },
  {
   "cell_type": "code",
   "execution_count": 132,
   "metadata": {
    "collapsed": true
   },
   "outputs": [],
   "source": [
    "params3 = dict(\n",
    "    n_estimators= [5, 10, 20],\n",
    "    max_depth = [10,20],\n",
    "    min_samples_split = [3,50]\n",
    ")"
   ]
  },
  {
   "cell_type": "code",
   "execution_count": 133,
   "metadata": {
    "collapsed": true
   },
   "outputs": [],
   "source": [
    "est_3 = GridSearchCV(rf_1, param_grid=params3, n_jobs=1, verbose=3,cv=3)"
   ]
  },
  {
   "cell_type": "code",
   "execution_count": 136,
   "metadata": {
    "collapsed": false
   },
   "outputs": [
    {
     "name": "stdout",
     "output_type": "stream",
     "text": [
      "Fitting 3 folds for each of 12 candidates, totalling 36 fits\n",
      "[CV] min_samples_split=3, n_estimators=5, max_depth=10 ...............\n",
      "[CV]  min_samples_split=3, n_estimators=5, max_depth=10, score=0.849870 -   0.0s\n",
      "[CV] min_samples_split=3, n_estimators=5, max_depth=10 ...............\n",
      "[CV]  min_samples_split=3, n_estimators=5, max_depth=10, score=0.827213 -   0.0s\n",
      "[CV] min_samples_split=3, n_estimators=5, max_depth=10 ...............\n",
      "[CV]  min_samples_split=3, n_estimators=5, max_depth=10, score=0.795508 -   0.0s\n",
      "[CV] min_samples_split=3, n_estimators=10, max_depth=10 ..............\n",
      "[CV]  min_samples_split=3, n_estimators=10, max_depth=10, score=0.861960 -   0.0s\n",
      "[CV] min_samples_split=3, n_estimators=10, max_depth=10 ..............\n",
      "[CV]  min_samples_split=3, n_estimators=10, max_depth=10, score=0.836065 -   0.0s\n",
      "[CV] min_samples_split=3, n_estimators=10, max_depth=10 ..............\n",
      "[CV]  min_samples_split=3, n_estimators=10, max_depth=10, score=0.809541 -   0.0s\n",
      "[CV] min_samples_split=3, n_estimators=20, max_depth=10 ..............\n",
      "[CV]  min_samples_split=3, n_estimators=20, max_depth=10, score=0.872736 -   0.1s\n",
      "[CV] min_samples_split=3, n_estimators=20, max_depth=10 ..............\n",
      "[CV]  min_samples_split=3, n_estimators=20, max_depth=10, score=0.836573 -   0.1s\n",
      "[CV] min_samples_split=3, n_estimators=20, max_depth=10 ..............\n",
      "[CV]  min_samples_split=3, n_estimators=20, max_depth=10, score=0.815341 -   0.1s\n",
      "[CV] min_samples_split=50, n_estimators=5, max_depth=10 ..............\n",
      "[CV]  min_samples_split=50, n_estimators=5, max_depth=10, score=0.845273 -   0.0s\n",
      "[CV] min_samples_split=50, n_estimators=5, max_depth=10 ..............\n",
      "[CV]  min_samples_split=50, n_estimators=5, max_depth=10, score=0.778240 -   0.0s\n",
      "[CV] min_samples_split=50, n_estimators=5, max_depth=10 ..............\n",
      "[CV]  min_samples_split=50, n_estimators=5, max_depth=10, score=0.791818 -   0.0s\n",
      "[CV] min_samples_split=50, n_estimators=10, max_depth=10 .............\n",
      "[CV]  min_samples_split=50, n_estimators=10, max_depth=10, score=0.839858 -   0.0s\n",
      "[CV] min_samples_split=50, n_estimators=10, max_depth=10 .............\n",
      "[CV]  min_samples_split=50, n_estimators=10, max_depth=10, score=0.782219 -   0.0s\n",
      "[CV] min_samples_split=50, n_estimators=10, max_depth=10 .............\n",
      "[CV]  min_samples_split=50, n_estimators=10, max_depth=10, score=0.784988 -   0.0s\n",
      "[CV] min_samples_split=50, n_estimators=20, max_depth=10 .............\n",
      "[CV]  min_samples_split=50, n_estimators=20, max_depth=10, score=0.847117 -   0.0s\n",
      "[CV] min_samples_split=50, n_estimators=20, max_depth=10 .............\n",
      "[CV]  min_samples_split=50, n_estimators=20, max_depth=10, score=0.783736 -   0.0s\n",
      "[CV] min_samples_split=50, n_estimators=20, max_depth=10 .............\n",
      "[CV]  min_samples_split=50, n_estimators=20, max_depth=10, score=0.795961 -   0.0s\n",
      "[CV] min_samples_split=3, n_estimators=5, max_depth=20 ...............\n",
      "[CV]  min_samples_split=3, n_estimators=5, max_depth=20, score=0.855842 -   0.0s\n",
      "[CV] min_samples_split=3, n_estimators=5, max_depth=20 ...............\n",
      "[CV]  min_samples_split=3, n_estimators=5, max_depth=20, score=0.827977 -   0.0s\n",
      "[CV] min_samples_split=3, n_estimators=5, max_depth=20 ...............\n",
      "[CV]  min_samples_split=3, n_estimators=5, max_depth=20, score=0.801107 -   0.0s\n",
      "[CV] min_samples_split=3, n_estimators=10, max_depth=20 ..............\n",
      "[CV]  min_samples_split=3, n_estimators=10, max_depth=20, score=0.861485 -   0.0s\n",
      "[CV] min_samples_split=3, n_estimators=10, max_depth=20 ..............\n",
      "[CV]  min_samples_split=3, n_estimators=10, max_depth=20, score=0.844794 -   0.0s\n",
      "[CV] min_samples_split=3, n_estimators=10, max_depth=20 ..............\n",
      "[CV]  min_samples_split=3, n_estimators=10, max_depth=20, score=0.814701 -   0.0s\n",
      "[CV] min_samples_split=3, n_estimators=20, max_depth=20 ..............\n",
      "[CV]  min_samples_split=3, n_estimators=20, max_depth=20, score=0.870700 -   0.1s\n",
      "[CV] min_samples_split=3, n_estimators=20, max_depth=20 ..............\n",
      "[CV]  min_samples_split=3, n_estimators=20, max_depth=20, score=0.841104 -   0.1s\n",
      "[CV] min_samples_split=3, n_estimators=20, max_depth=20 ..............\n",
      "[CV]  min_samples_split=3, n_estimators=20, max_depth=20, score=0.817463 -   0.1s\n",
      "[CV] min_samples_split=50, n_estimators=5, max_depth=20 ..............\n",
      "[CV]  min_samples_split=50, n_estimators=5, max_depth=20, score=0.845273 -   0.0s\n",
      "[CV] min_samples_split=50, n_estimators=5, max_depth=20 ..............\n",
      "[CV]  min_samples_split=50, n_estimators=5, max_depth=20, score=0.778240 -   0.0s\n",
      "[CV] min_samples_split=50, n_estimators=5, max_depth=20 ..............\n",
      "[CV]  min_samples_split=50, n_estimators=5, max_depth=20, score=0.791860 -   0.0s\n",
      "[CV] min_samples_split=50, n_estimators=10, max_depth=20 .............\n",
      "[CV]  min_samples_split=50, n_estimators=10, max_depth=20, score=0.839858 -   0.0s\n",
      "[CV] min_samples_split=50, n_estimators=10, max_depth=20 .............\n"
     ]
    },
    {
     "name": "stderr",
     "output_type": "stream",
     "text": [
      "[Parallel(n_jobs=1)]: Done  31 tasks       | elapsed:    3.1s\n"
     ]
    },
    {
     "name": "stdout",
     "output_type": "stream",
     "text": [
      "[CV]  min_samples_split=50, n_estimators=10, max_depth=20, score=0.782219 -   0.0s\n",
      "[CV] min_samples_split=50, n_estimators=10, max_depth=20 .............\n",
      "[CV]  min_samples_split=50, n_estimators=10, max_depth=20, score=0.785006 -   0.0s\n",
      "[CV] min_samples_split=50, n_estimators=20, max_depth=20 .............\n",
      "[CV]  min_samples_split=50, n_estimators=20, max_depth=20, score=0.847169 -   0.0s\n",
      "[CV] min_samples_split=50, n_estimators=20, max_depth=20 .............\n",
      "[CV]  min_samples_split=50, n_estimators=20, max_depth=20, score=0.783736 -   0.0s\n",
      "[CV] min_samples_split=50, n_estimators=20, max_depth=20 .............\n",
      "[CV]  min_samples_split=50, n_estimators=20, max_depth=20, score=0.795976 -   0.0s\n"
     ]
    },
    {
     "name": "stderr",
     "output_type": "stream",
     "text": [
      "[Parallel(n_jobs=1)]: Done  36 out of  36 | elapsed:    3.6s finished\n"
     ]
    },
    {
     "data": {
      "text/plain": [
       "GridSearchCV(cv=3, error_score='raise',\n",
       "       estimator=RandomForestRegressor(bootstrap=True, criterion='mse', max_depth=None,\n",
       "           max_features='auto', max_leaf_nodes=None, min_samples_leaf=1,\n",
       "           min_samples_split=2, min_weight_fraction_leaf=0.0,\n",
       "           n_estimators=10, n_jobs=1, oob_score=False, random_state=15546,\n",
       "           verbose=0, warm_start=False),\n",
       "       fit_params={}, iid=True, n_jobs=1,\n",
       "       param_grid={'min_samples_split': [3, 50], 'n_estimators': [5, 10, 20], 'max_depth': [10, 20]},\n",
       "       pre_dispatch='2*n_jobs', refit=True, scoring=None, verbose=3)"
      ]
     },
     "execution_count": 136,
     "metadata": {},
     "output_type": "execute_result"
    }
   ],
   "source": [
    "est_3.fit(X_train2, y_train)"
   ]
  },
  {
   "cell_type": "code",
   "execution_count": 137,
   "metadata": {
    "collapsed": false
   },
   "outputs": [
    {
     "data": {
      "text/plain": [
       "[mean: 0.82422, std: 0.02230, params: {'min_samples_split': 3, 'n_estimators': 5, 'max_depth': 10},\n",
       " mean: 0.83587, std: 0.02140, params: {'min_samples_split': 3, 'n_estimators': 10, 'max_depth': 10},\n",
       " mean: 0.84157, std: 0.02369, params: {'min_samples_split': 3, 'n_estimators': 20, 'max_depth': 10},\n",
       " mean: 0.80512, std: 0.02894, params: {'min_samples_split': 50, 'n_estimators': 5, 'max_depth': 10},\n",
       " mean: 0.80237, std: 0.02654, params: {'min_samples_split': 50, 'n_estimators': 10, 'max_depth': 10},\n",
       " mean: 0.80895, std: 0.02745, params: {'min_samples_split': 50, 'n_estimators': 20, 'max_depth': 10},\n",
       " mean: 0.82833, std: 0.02235, params: {'min_samples_split': 3, 'n_estimators': 5, 'max_depth': 20},\n",
       " mean: 0.84034, std: 0.01936, params: {'min_samples_split': 3, 'n_estimators': 10, 'max_depth': 20},\n",
       " mean: 0.84311, std: 0.02178, params: {'min_samples_split': 3, 'n_estimators': 20, 'max_depth': 20},\n",
       " mean: 0.80513, std: 0.02893, params: {'min_samples_split': 50, 'n_estimators': 5, 'max_depth': 20},\n",
       " mean: 0.80237, std: 0.02654, params: {'min_samples_split': 50, 'n_estimators': 10, 'max_depth': 20},\n",
       " mean: 0.80897, std: 0.02748, params: {'min_samples_split': 50, 'n_estimators': 20, 'max_depth': 20}]"
      ]
     },
     "execution_count": 137,
     "metadata": {},
     "output_type": "execute_result"
    }
   ],
   "source": [
    "est_3.grid_scores_"
   ]
  },
  {
   "cell_type": "code",
   "execution_count": 138,
   "metadata": {
    "collapsed": false
   },
   "outputs": [
    {
     "data": {
      "text/plain": [
       "{'max_depth': 20, 'min_samples_split': 3, 'n_estimators': 20}"
      ]
     },
     "execution_count": 138,
     "metadata": {},
     "output_type": "execute_result"
    }
   ],
   "source": [
    "est_3.best_params_"
   ]
  },
  {
   "cell_type": "code",
   "execution_count": null,
   "metadata": {
    "collapsed": true
   },
   "outputs": [],
   "source": []
  },
  {
   "cell_type": "code",
   "execution_count": 142,
   "metadata": {
    "collapsed": false
   },
   "outputs": [
    {
     "name": "stdout",
     "output_type": "stream",
     "text": [
      "Fitting 3 folds for each of 27 candidates, totalling 81 fits\n"
     ]
    },
    {
     "name": "stderr",
     "output_type": "stream",
     "text": [
      "[Parallel(n_jobs=1)]: Done  49 tasks       | elapsed:    8.2s\n",
      "[Parallel(n_jobs=1)]: Done  81 out of  81 | elapsed:   16.2s finished\n"
     ]
    },
    {
     "name": "stdout",
     "output_type": "stream",
     "text": [
      "[mean: 0.80878, std: 0.02234, params: {'min_samples_split': 2, 'n_estimators': 10, 'max_depth': 5}, mean: 0.81813, std: 0.02289, params: {'min_samples_split': 2, 'n_estimators': 20, 'max_depth': 5}, mean: 0.81788, std: 0.02417, params: {'min_samples_split': 2, 'n_estimators': 40, 'max_depth': 5}, mean: 0.81265, std: 0.02354, params: {'min_samples_split': 3, 'n_estimators': 10, 'max_depth': 5}, mean: 0.81982, std: 0.02344, params: {'min_samples_split': 3, 'n_estimators': 20, 'max_depth': 5}, mean: 0.81833, std: 0.02550, params: {'min_samples_split': 3, 'n_estimators': 40, 'max_depth': 5}, mean: 0.81269, std: 0.02406, params: {'min_samples_split': 20, 'n_estimators': 10, 'max_depth': 5}, mean: 0.81611, std: 0.02395, params: {'min_samples_split': 20, 'n_estimators': 20, 'max_depth': 5}, mean: 0.81844, std: 0.02178, params: {'min_samples_split': 20, 'n_estimators': 40, 'max_depth': 5}, mean: 0.84524, std: 0.01448, params: {'min_samples_split': 2, 'n_estimators': 10, 'max_depth': 10}, mean: 0.84864, std: 0.01796, params: {'min_samples_split': 2, 'n_estimators': 20, 'max_depth': 10}, mean: 0.84805, std: 0.02064, params: {'min_samples_split': 2, 'n_estimators': 40, 'max_depth': 10}, mean: 0.83587, std: 0.02140, params: {'min_samples_split': 3, 'n_estimators': 10, 'max_depth': 10}, mean: 0.84157, std: 0.02369, params: {'min_samples_split': 3, 'n_estimators': 20, 'max_depth': 10}, mean: 0.84222, std: 0.02739, params: {'min_samples_split': 3, 'n_estimators': 40, 'max_depth': 10}, mean: 0.83455, std: 0.01950, params: {'min_samples_split': 20, 'n_estimators': 10, 'max_depth': 10}, mean: 0.83867, std: 0.02203, params: {'min_samples_split': 20, 'n_estimators': 20, 'max_depth': 10}, mean: 0.84066, std: 0.02084, params: {'min_samples_split': 20, 'n_estimators': 40, 'max_depth': 10}, mean: 0.83903, std: 0.01807, params: {'min_samples_split': 2, 'n_estimators': 10, 'max_depth': 20}, mean: 0.84439, std: 0.02121, params: {'min_samples_split': 2, 'n_estimators': 20, 'max_depth': 20}, mean: 0.84657, std: 0.02261, params: {'min_samples_split': 2, 'n_estimators': 40, 'max_depth': 20}, mean: 0.84034, std: 0.01936, params: {'min_samples_split': 3, 'n_estimators': 10, 'max_depth': 20}, mean: 0.84311, std: 0.02178, params: {'min_samples_split': 3, 'n_estimators': 20, 'max_depth': 20}, mean: 0.84555, std: 0.02167, params: {'min_samples_split': 3, 'n_estimators': 40, 'max_depth': 20}, mean: 0.83119, std: 0.02262, params: {'min_samples_split': 20, 'n_estimators': 10, 'max_depth': 20}, mean: 0.83559, std: 0.02533, params: {'min_samples_split': 20, 'n_estimators': 20, 'max_depth': 20}, mean: 0.83870, std: 0.02470, params: {'min_samples_split': 20, 'n_estimators': 40, 'max_depth': 20}]\n",
      "{'min_samples_split': 2, 'n_estimators': 20, 'max_depth': 10}\n"
     ]
    }
   ],
   "source": [
    "params3 = dict(\n",
    "    n_estimators= [ 10, 20,40],\n",
    "    max_depth = [5,10,20],\n",
    "    min_samples_split = [2,3,20]\n",
    ")\n",
    "est_3 = GridSearchCV(rf_1, param_grid=params3, n_jobs=1, verbose=1,cv=3)\n",
    "est_3.fit(X_train2, y_train)\n",
    "print est_3.grid_scores_\n",
    "print est_3.best_params_"
   ]
  },
  {
   "cell_type": "code",
   "execution_count": 143,
   "metadata": {
    "collapsed": false
   },
   "outputs": [
    {
     "data": {
      "text/plain": [
       "[mean: 0.80878, std: 0.02234, params: {'min_samples_split': 2, 'n_estimators': 10, 'max_depth': 5},\n",
       " mean: 0.81813, std: 0.02289, params: {'min_samples_split': 2, 'n_estimators': 20, 'max_depth': 5},\n",
       " mean: 0.81788, std: 0.02417, params: {'min_samples_split': 2, 'n_estimators': 40, 'max_depth': 5},\n",
       " mean: 0.81265, std: 0.02354, params: {'min_samples_split': 3, 'n_estimators': 10, 'max_depth': 5},\n",
       " mean: 0.81982, std: 0.02344, params: {'min_samples_split': 3, 'n_estimators': 20, 'max_depth': 5},\n",
       " mean: 0.81833, std: 0.02550, params: {'min_samples_split': 3, 'n_estimators': 40, 'max_depth': 5},\n",
       " mean: 0.81269, std: 0.02406, params: {'min_samples_split': 20, 'n_estimators': 10, 'max_depth': 5},\n",
       " mean: 0.81611, std: 0.02395, params: {'min_samples_split': 20, 'n_estimators': 20, 'max_depth': 5},\n",
       " mean: 0.81844, std: 0.02178, params: {'min_samples_split': 20, 'n_estimators': 40, 'max_depth': 5},\n",
       " mean: 0.84524, std: 0.01448, params: {'min_samples_split': 2, 'n_estimators': 10, 'max_depth': 10},\n",
       " mean: 0.84864, std: 0.01796, params: {'min_samples_split': 2, 'n_estimators': 20, 'max_depth': 10},\n",
       " mean: 0.84805, std: 0.02064, params: {'min_samples_split': 2, 'n_estimators': 40, 'max_depth': 10},\n",
       " mean: 0.83587, std: 0.02140, params: {'min_samples_split': 3, 'n_estimators': 10, 'max_depth': 10},\n",
       " mean: 0.84157, std: 0.02369, params: {'min_samples_split': 3, 'n_estimators': 20, 'max_depth': 10},\n",
       " mean: 0.84222, std: 0.02739, params: {'min_samples_split': 3, 'n_estimators': 40, 'max_depth': 10},\n",
       " mean: 0.83455, std: 0.01950, params: {'min_samples_split': 20, 'n_estimators': 10, 'max_depth': 10},\n",
       " mean: 0.83867, std: 0.02203, params: {'min_samples_split': 20, 'n_estimators': 20, 'max_depth': 10},\n",
       " mean: 0.84066, std: 0.02084, params: {'min_samples_split': 20, 'n_estimators': 40, 'max_depth': 10},\n",
       " mean: 0.83903, std: 0.01807, params: {'min_samples_split': 2, 'n_estimators': 10, 'max_depth': 20},\n",
       " mean: 0.84439, std: 0.02121, params: {'min_samples_split': 2, 'n_estimators': 20, 'max_depth': 20},\n",
       " mean: 0.84657, std: 0.02261, params: {'min_samples_split': 2, 'n_estimators': 40, 'max_depth': 20},\n",
       " mean: 0.84034, std: 0.01936, params: {'min_samples_split': 3, 'n_estimators': 10, 'max_depth': 20},\n",
       " mean: 0.84311, std: 0.02178, params: {'min_samples_split': 3, 'n_estimators': 20, 'max_depth': 20},\n",
       " mean: 0.84555, std: 0.02167, params: {'min_samples_split': 3, 'n_estimators': 40, 'max_depth': 20},\n",
       " mean: 0.83119, std: 0.02262, params: {'min_samples_split': 20, 'n_estimators': 10, 'max_depth': 20},\n",
       " mean: 0.83559, std: 0.02533, params: {'min_samples_split': 20, 'n_estimators': 20, 'max_depth': 20},\n",
       " mean: 0.83870, std: 0.02470, params: {'min_samples_split': 20, 'n_estimators': 40, 'max_depth': 20}]"
      ]
     },
     "execution_count": 143,
     "metadata": {},
     "output_type": "execute_result"
    }
   ],
   "source": [
    "est_3.grid_scores_"
   ]
  },
  {
   "cell_type": "code",
   "execution_count": 144,
   "metadata": {
    "collapsed": false
   },
   "outputs": [
    {
     "data": {
      "text/plain": [
       "{'max_depth': 10, 'min_samples_split': 2, 'n_estimators': 20}"
      ]
     },
     "execution_count": 144,
     "metadata": {},
     "output_type": "execute_result"
    }
   ],
   "source": [
    "est_3.best_params_"
   ]
  },
  {
   "cell_type": "code",
   "execution_count": 145,
   "metadata": {
    "collapsed": false
   },
   "outputs": [
    {
     "name": "stdout",
     "output_type": "stream",
     "text": [
      "Fitting 3 folds for each of 28 candidates, totalling 84 fits\n"
     ]
    },
    {
     "name": "stderr",
     "output_type": "stream",
     "text": [
      "[Parallel(n_jobs=1)]: Done  49 tasks       | elapsed:    6.7s\n",
      "[Parallel(n_jobs=1)]: Done  84 out of  84 | elapsed:   15.0s finished\n"
     ]
    },
    {
     "data": {
      "text/plain": [
       "GridSearchCV(cv=3, error_score='raise',\n",
       "       estimator=RandomForestRegressor(bootstrap=True, criterion='mse', max_depth=None,\n",
       "           max_features='auto', max_leaf_nodes=None, min_samples_leaf=1,\n",
       "           min_samples_split=2, min_weight_fraction_leaf=0.0,\n",
       "           n_estimators=10, n_jobs=1, oob_score=False, random_state=15546,\n",
       "           verbose=0, warm_start=False),\n",
       "       fit_params={}, iid=True, n_jobs=1,\n",
       "       param_grid={'min_samples_split': [2], 'n_estimators': [15, 20, 25, 30], 'max_depth': [3, 5, 7, 6, 8, 10, 20]},\n",
       "       pre_dispatch='2*n_jobs', refit=True, scoring=None, verbose=1)"
      ]
     },
     "execution_count": 145,
     "metadata": {},
     "output_type": "execute_result"
    }
   ],
   "source": [
    "params3 = dict(\n",
    "    n_estimators= [ 15, 20,25,30],\n",
    "    max_depth = [3,5,7,6,8,10,20],\n",
    "    min_samples_split = [2]\n",
    ")\n",
    "est_3 = GridSearchCV(rf_1, param_grid=params3, n_jobs=1, verbose=1,cv=3)\n",
    "est_3.fit(X_train2, y_train)"
   ]
  },
  {
   "cell_type": "code",
   "execution_count": 146,
   "metadata": {
    "collapsed": false
   },
   "outputs": [
    {
     "data": {
      "text/plain": [
       "[mean: 0.75474, std: 0.00760, params: {'min_samples_split': 2, 'n_estimators': 15, 'max_depth': 3},\n",
       " mean: 0.75533, std: 0.00927, params: {'min_samples_split': 2, 'n_estimators': 20, 'max_depth': 3},\n",
       " mean: 0.75104, std: 0.01294, params: {'min_samples_split': 2, 'n_estimators': 25, 'max_depth': 3},\n",
       " mean: 0.75267, std: 0.01144, params: {'min_samples_split': 2, 'n_estimators': 30, 'max_depth': 3},\n",
       " mean: 0.81543, std: 0.02458, params: {'min_samples_split': 2, 'n_estimators': 15, 'max_depth': 5},\n",
       " mean: 0.81813, std: 0.02289, params: {'min_samples_split': 2, 'n_estimators': 20, 'max_depth': 5},\n",
       " mean: 0.81435, std: 0.02481, params: {'min_samples_split': 2, 'n_estimators': 25, 'max_depth': 5},\n",
       " mean: 0.81500, std: 0.02540, params: {'min_samples_split': 2, 'n_estimators': 30, 'max_depth': 5},\n",
       " mean: 0.83729, std: 0.02643, params: {'min_samples_split': 2, 'n_estimators': 15, 'max_depth': 7},\n",
       " mean: 0.84017, std: 0.02314, params: {'min_samples_split': 2, 'n_estimators': 20, 'max_depth': 7},\n",
       " mean: 0.83695, std: 0.02347, params: {'min_samples_split': 2, 'n_estimators': 25, 'max_depth': 7},\n",
       " mean: 0.83816, std: 0.02146, params: {'min_samples_split': 2, 'n_estimators': 30, 'max_depth': 7},\n",
       " mean: 0.83371, std: 0.01997, params: {'min_samples_split': 2, 'n_estimators': 15, 'max_depth': 6},\n",
       " mean: 0.83699, std: 0.01918, params: {'min_samples_split': 2, 'n_estimators': 20, 'max_depth': 6},\n",
       " mean: 0.83319, std: 0.02103, params: {'min_samples_split': 2, 'n_estimators': 25, 'max_depth': 6},\n",
       " mean: 0.83420, std: 0.01881, params: {'min_samples_split': 2, 'n_estimators': 30, 'max_depth': 6},\n",
       " mean: 0.83742, std: 0.02035, params: {'min_samples_split': 2, 'n_estimators': 15, 'max_depth': 8},\n",
       " mean: 0.84126, std: 0.01875, params: {'min_samples_split': 2, 'n_estimators': 20, 'max_depth': 8},\n",
       " mean: 0.83873, std: 0.02094, params: {'min_samples_split': 2, 'n_estimators': 25, 'max_depth': 8},\n",
       " mean: 0.83968, std: 0.02153, params: {'min_samples_split': 2, 'n_estimators': 30, 'max_depth': 8},\n",
       " mean: 0.84715, std: 0.01897, params: {'min_samples_split': 2, 'n_estimators': 15, 'max_depth': 10},\n",
       " mean: 0.84864, std: 0.01796, params: {'min_samples_split': 2, 'n_estimators': 20, 'max_depth': 10},\n",
       " mean: 0.84436, std: 0.01937, params: {'min_samples_split': 2, 'n_estimators': 25, 'max_depth': 10},\n",
       " mean: 0.84627, std: 0.01908, params: {'min_samples_split': 2, 'n_estimators': 30, 'max_depth': 10},\n",
       " mean: 0.84312, std: 0.02193, params: {'min_samples_split': 2, 'n_estimators': 15, 'max_depth': 20},\n",
       " mean: 0.84439, std: 0.02121, params: {'min_samples_split': 2, 'n_estimators': 20, 'max_depth': 20},\n",
       " mean: 0.84308, std: 0.02315, params: {'min_samples_split': 2, 'n_estimators': 25, 'max_depth': 20},\n",
       " mean: 0.84294, std: 0.02443, params: {'min_samples_split': 2, 'n_estimators': 30, 'max_depth': 20}]"
      ]
     },
     "execution_count": 146,
     "metadata": {},
     "output_type": "execute_result"
    }
   ],
   "source": [
    "est_3.grid_scores_"
   ]
  },
  {
   "cell_type": "code",
   "execution_count": 147,
   "metadata": {
    "collapsed": false
   },
   "outputs": [
    {
     "data": {
      "text/plain": [
       "{'max_depth': 10, 'min_samples_split': 2, 'n_estimators': 20}"
      ]
     },
     "execution_count": 147,
     "metadata": {},
     "output_type": "execute_result"
    }
   ],
   "source": [
    "est_3.best_params_"
   ]
  },
  {
   "cell_type": "code",
   "execution_count": 148,
   "metadata": {
    "collapsed": true
   },
   "outputs": [],
   "source": [
    "test = pd.read_csv(\"test.csv\")"
   ]
  },
  {
   "cell_type": "code",
   "execution_count": 149,
   "metadata": {
    "collapsed": false
   },
   "outputs": [
    {
     "data": {
      "text/plain": [
       "81"
      ]
     },
     "execution_count": 149,
     "metadata": {},
     "output_type": "execute_result"
    }
   ],
   "source": [
    "len(list1)"
   ]
  },
  {
   "cell_type": "code",
   "execution_count": 152,
   "metadata": {
    "collapsed": false
   },
   "outputs": [
    {
     "data": {
      "text/plain": [
       "True"
      ]
     },
     "execution_count": 152,
     "metadata": {},
     "output_type": "execute_result"
    }
   ],
   "source": [
    "list1.pop()"
   ]
  },
  {
   "cell_type": "code",
   "execution_count": 157,
   "metadata": {
    "collapsed": false
   },
   "outputs": [],
   "source": [
    "test = test.ix[:, list1]"
   ]
  },
  {
   "cell_type": "code",
   "execution_count": 158,
   "metadata": {
    "collapsed": true
   },
   "outputs": [],
   "source": [
    "test = test.fillna(0)"
   ]
  },
  {
   "cell_type": "code",
   "execution_count": 160,
   "metadata": {
    "collapsed": true
   },
   "outputs": [],
   "source": [
    "a = est_3.predict(test)"
   ]
  },
  {
   "cell_type": "code",
   "execution_count": 163,
   "metadata": {
    "collapsed": false
   },
   "outputs": [
    {
     "name": "stdout",
     "output_type": "stream",
     "text": [
      "data-exploration.ipynb\n",
      "data_description.txt\n",
      "sample_submission.csv\n",
      "test.csv\n",
      "train.csv\n"
     ]
    }
   ],
   "source": [
    "!ls"
   ]
  },
  {
   "cell_type": "code",
   "execution_count": 164,
   "metadata": {
    "collapsed": false
   },
   "outputs": [],
   "source": [
    "subm = pd.read_csv('sample_submission.csv')"
   ]
  },
  {
   "cell_type": "code",
   "execution_count": 166,
   "metadata": {
    "collapsed": false
   },
   "outputs": [],
   "source": [
    "subm['SalePrice'] = a"
   ]
  },
  {
   "cell_type": "code",
   "execution_count": 169,
   "metadata": {
    "collapsed": false
   },
   "outputs": [],
   "source": [
    "subm.to_csv(\"test1.csv\", index=False)"
   ]
  },
  {
   "cell_type": "code",
   "execution_count": null,
   "metadata": {
    "collapsed": true
   },
   "outputs": [],
   "source": []
  }
 ],
 "metadata": {
  "kernelspec": {
   "display_name": "Python 2",
   "language": "python",
   "name": "python2"
  },
  "language_info": {
   "codemirror_mode": {
    "name": "ipython",
    "version": 2
   },
   "file_extension": ".py",
   "mimetype": "text/x-python",
   "name": "python",
   "nbconvert_exporter": "python",
   "pygments_lexer": "ipython2",
   "version": "2.7.11"
  }
 },
 "nbformat": 4,
 "nbformat_minor": 1
}
