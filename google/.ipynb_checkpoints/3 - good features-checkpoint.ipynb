{
 "cells": [
  {
   "cell_type": "markdown",
   "metadata": {},
   "source": [
    "# What makes a good feature - Google ML YouTube tutorial"
   ]
  },
  {
   "cell_type": "code",
   "execution_count": 9,
   "metadata": {
    "collapsed": false
   },
   "outputs": [],
   "source": [
    "import numpy as np\n",
    "import matplotlib.pyplot as plt"
   ]
  },
  {
   "cell_type": "markdown",
   "metadata": {},
   "source": [
    "Choosing a good feature to classify your data is key to ML. The below example illustrates why height of a dog is a bad choice. At certain heights, there may be a clear distinction between two species of dogs (labradors or greyhounds). However, in the centre of the histogram, there will be group of heights for which there is a 50% chance the dog could be of either species. This is a bad feature to classify the dogs' species upon."
   ]
  },
  {
   "cell_type": "code",
   "execution_count": 16,
   "metadata": {
    "collapsed": false
   },
   "outputs": [
    {
     "data": {
      "text/plain": [
       "([array([  12.,   20.,   60.,   90.,  123.,   99.,   62.,   27.,    5.,    2.]),\n",
       "  array([  12.,   20.,  129.,  375.,  269.,   99.,   62.,   27.,    5.,    2.])],\n",
       " array([ 17.85891492,  20.0963224 ,  22.33372989,  24.57113737,\n",
       "         26.80854485,  29.04595233,  31.28335981,  33.5207673 ,\n",
       "         35.75817478,  37.99558226,  40.23298974]),\n",
       " <a list of 2 Lists of Patches objects>)"
      ]
     },
     "execution_count": 16,
     "metadata": {},
     "output_type": "execute_result"
    },
    {
     "data": {
      "image/png": "[encoded data removed]",
      "text/plain": [
       "<matplotlib.figure.Figure at 0x82d8630>"
      ]
     },
     "metadata": {},
     "output_type": "display_data"
    }
   ],
   "source": [
    "%matplotlib inline\n",
    "greyhounds = 500\n",
    "labs = 500\n",
    "\n",
    "grey_height = 28 + 4 * np.random.randn(greyhounds)\n",
    "lab_height = 24 + 4 * np.random.rand(labs)\n",
    "\n",
    "plt.hist([grey_height, lab_height], stacked=True, color=['r','b'])"
   ]
  },
  {
   "cell_type": "markdown",
   "metadata": {},
   "source": [
    "**Useless features** should always be excluded from a ML classifier / decision tree, as they may lead to incorrect assumptions by the algorithm. For example, if both species of dogs had a 50:50 distribution of blue and brown eye colour, including this feature set in a ML algorithm would be detrimental. If the sample size is low, this distribution may accidentally lead to an incorrect classification"
   ]
  },
  {
   "cell_type": "markdown",
   "metadata": {},
   "source": [
    "Features should also be **independent**. For example, height in inches and centimetres are 100% correlated with each other. Thus, including it into the ML classifier could lead to unexpected results."
   ]
  },
  {
   "cell_type": "code",
   "execution_count": null,
   "metadata": {
    "collapsed": true
   },
   "outputs": [],
   "source": []
  }
 ],
 "metadata": {
  "kernelspec": {
   "display_name": "Python 2",
   "language": "python",
   "name": "python2"
  },
  "language_info": {
   "codemirror_mode": {
    "name": "ipython",
    "version": 2
   },
   "file_extension": ".py",
   "mimetype": "text/x-python",
   "name": "python",
   "nbconvert_exporter": "python",
   "pygments_lexer": "ipython2",
   "version": "2.7.11"
  },
  "widgets": {
   "state": {},
   "version": "1.1.2"
  }
 },
 "nbformat": 4,
 "nbformat_minor": 0
}
