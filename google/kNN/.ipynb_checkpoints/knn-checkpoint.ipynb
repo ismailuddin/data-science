{
 "cells": [
  {
   "cell_type": "markdown",
   "metadata": {},
   "source": [
    "## Writing a KNN classifier with a value of *k* > 1"
   ]
  },
  {
   "cell_type": "markdown",
   "metadata": {},
   "source": [
    "First attempt at writing a *k*NN algorithm from scratch."
   ]
  },
  {
   "cell_type": "code",
   "execution_count": 3,
   "metadata": {
    "collapsed": true
   },
   "outputs": [],
   "source": [
    "from sklearn import datasets\n",
    "iris = datasets.load_iris()"
   ]
  },
  {
   "cell_type": "code",
   "execution_count": 4,
   "metadata": {
    "collapsed": true
   },
   "outputs": [],
   "source": [
    "x = iris.data\n",
    "y = iris.target"
   ]
  },
  {
   "cell_type": "code",
   "execution_count": 5,
   "metadata": {
    "collapsed": true
   },
   "outputs": [],
   "source": [
    "from sklearn.cross_validation import train_test_split\n",
    "x_train, x_test, y_train, y_test = train_test_split(x,y, test_size = 0.5)"
   ]
  },
  {
   "cell_type": "markdown",
   "metadata": {},
   "source": [
    "This algorithm works by splitting the training data set by the number of unique labels. The `predict()` function then iterates over every point from each divided group, calculating the Euclidean distance. The *k* nearest points from each group are shortlisted, and the average distance for these *k* points in each group is then calculated. The group, whose *k* nearest points has the lowest average distance is selected as the label."
   ]
  },
  {
   "cell_type": "code",
   "execution_count": 6,
   "metadata": {
    "collapsed": true
   },
   "outputs": [],
   "source": [
    "from scipy.spatial import distance \n",
    "import numpy as np\n",
    "import pandas as pd\n",
    "\n",
    "def euc(a, b):\n",
    "    \"\"\"\n",
    "    Returns Euclidean distance between point a,\n",
    "    the training data, and b, the point from our\n",
    "    test data\n",
    "    \"\"\"\n",
    "    return distance.euclidean(a, b)\n",
    "\n",
    "euc_apply = np.vectorize(euc)\n",
    "\n",
    "class CustomKNN():\n",
    "    \n",
    "    def __init__(self, labels, k):\n",
    "        self.labels = labels\n",
    "        self.k = k\n",
    "        \n",
    "    \n",
    "    def fit(self, x_train, y_train):\n",
    "        self.x_train = np.array(x_train)\n",
    "        self.y_train = np.array(y_train)\n",
    "        \n",
    "        training_data = pd.DataFrame(x_train)\n",
    "        training_targets = pd.DataFrame(y_train, columns=['Target'])\n",
    "        df = pd.concat([training_data, training_targets], axis=1)\n",
    "        df.sort_values('Target', inplace=True)\n",
    "        \n",
    "        self.targets = map(int, df['Target'].unique().tolist())\n",
    "        \n",
    "        self.trainIndexSortedByTarget = [0] * len(self.targets)\n",
    "        \n",
    "        for target in self.targets:\n",
    "            indx_vals = df.loc[df['Target'] == target].index.tolist()\n",
    "            self.trainIndexSortedByTarget[target] = indx_vals\n",
    "            \n",
    "        \n",
    "    \n",
    "    def predict(self, x_test, k=None):\n",
    "        if k == None:\n",
    "            k = self.k\n",
    "        \n",
    "        predictions = []\n",
    "        for row in x_test:\n",
    "            label = self.closest(row, k)\n",
    "            predictions.append(label)\n",
    "        return predictions\n",
    "    \n",
    "    \n",
    "    def closest(self, row, k):\n",
    "        best_distance = euc(row, self.x_train[0])\n",
    "        best_index = 0\n",
    "        \n",
    "        distByTarget = [0] * len(self.targets)\n",
    "        \n",
    "        for target in self.targets:\n",
    "            targetDistances = []\n",
    "            \n",
    "            for index in self.trainIndexSortedByTarget[target]:\n",
    "                dist = euc(row, self.x_train[index])\n",
    "                targetDistances.append(dist)\n",
    "            \n",
    "            distByTarget[target] = sorted(targetDistances)\n",
    "             \n",
    "        bestTarget = 0\n",
    "        shortestDistance = 100\n",
    "        \n",
    "        for target in self.targets:\n",
    "            k_closest = distByTarget[target][0:k]\n",
    "            avgDist = reduce(lambda a, b: ((a+b)/float(k)), k_closest)\n",
    "            if avgDist < shortestDistance:\n",
    "                shortestDistance = avgDist\n",
    "                bestTarget = target\n",
    "           \n",
    "        return bestTarget\n",
    "        \n",
    "    "
   ]
  },
  {
   "cell_type": "code",
   "execution_count": 9,
   "metadata": {
    "collapsed": true
   },
   "outputs": [],
   "source": [
    "from sklearn.metrics import accuracy_score\n",
    "\n",
    "accuracies = []\n",
    "\n",
    "x_train, x_test, y_train, y_test = train_test_split(x,y, test_size = 0.5)\n",
    "\n",
    "for k in range(1,25):\n",
    "    customClassifier = CustomKNN(iris.target_names, k)\n",
    "    customClassifier.fit(x_train, y_train)\n",
    "    predictions = customClassifier.predict(x_test)\n",
    "    accuracy = accuracy_score(y_test, predictions)\n",
    "\n",
    "    accuracies.append(accuracy)"
   ]
  },
  {
   "cell_type": "code",
   "execution_count": 8,
   "metadata": {
    "collapsed": false
   },
   "outputs": [
    {
     "data": {
      "text/plain": [
       "<matplotlib.text.Text at 0x120b8350>"
      ]
     },
     "execution_count": 8,
     "metadata": {},
     "output_type": "execute_result"
    },
    {
     "data": {
      "image/png": "[encoded data removed]",
      "text/plain": [
       "<matplotlib.figure.Figure at 0x11fa9610>"
      ]
     },
     "metadata": {},
     "output_type": "display_data"
    }
   ],
   "source": [
    "%matplotlib inline\n",
    "import matplotlib.pyplot as plt\n",
    "\n",
    "k_value = range(1, 25)\n",
    "plt.plot(k_value,accuracies)\n",
    "plt.xlabel(\"$k$ value\")"
   ]
  },
  {
   "cell_type": "markdown",
   "metadata": {},
   "source": [
    "A true *k*NN algorithm, however, operates slightly differently. The *k* nearest points in the entire training data set are shortlisted (not within each sub group divided by labels), and the label of the points which makes up the majority of the *k* nearest points is predicted as the label for the sample point."
   ]
  },
  {
   "cell_type": "code",
   "execution_count": 137,
   "metadata": {
    "collapsed": true
   },
   "outputs": [],
   "source": [
    "from scipy.spatial import distance \n",
    "import numpy as np\n",
    "import pandas as pd\n",
    "\n",
    "def euc(a, b):\n",
    "    \"\"\"\n",
    "    Returns Euclidean distance between point a,\n",
    "    the training data, and b, the point from our\n",
    "    test data\n",
    "    \"\"\"\n",
    "    return distance.euclidean(a, b)\n",
    "\n",
    "euc_apply = np.vectorize(euc)\n",
    "\n",
    "class BasicKNN():\n",
    "    \n",
    "    def __init__(self, labels, k):\n",
    "        self.labels = labels\n",
    "        self.k = k\n",
    "        \n",
    "    \n",
    "    def fit(self, x_train, y_train):\n",
    "        self.x_train = np.array(x_train)\n",
    "        self.y_train = np.array(y_train)\n",
    "        \n",
    "        training_data = pd.DataFrame(x_train)\n",
    "        training_targets = pd.DataFrame(y_train, columns=['Target'])\n",
    "        df = pd.concat([training_data, training_targets], axis=1)\n",
    "        \n",
    "        self.targets = map(int, df['Target'].unique().tolist())  \n",
    "        \n",
    "    \n",
    "    def predict(self, x_test, k=None):\n",
    "        if k == None:\n",
    "            k = self.k\n",
    "        \n",
    "        predictions = []\n",
    "        for row in x_test:\n",
    "            label = self.closest(row, k)\n",
    "            predictions.append(label)\n",
    "        return predictions\n",
    "    \n",
    "    \n",
    "    def closest(self, row, k):\n",
    "        best_index = 0\n",
    "        \n",
    "        target_score = [0] * len(self.targets)\n",
    "        \n",
    "        distances = []\n",
    "        \n",
    "        for i in range(1, len(self.x_train)):\n",
    "            dist = euc(row, self.x_train[i])\n",
    "            distances.append([dist, self.y_train[i]])\n",
    "            \n",
    "        distances.sort(key=lambda x: x[0])\n",
    "        k_closest = distances[0:k]\n",
    "        \n",
    "        for distance in k_closest:\n",
    "            target_score[distance[1]] += 1\n",
    "            \n",
    "        bestTarget = target_score.index(max(target_score))\n",
    "           \n",
    "        return bestTarget\n",
    "        \n",
    "    "
   ]
  },
  {
   "cell_type": "code",
   "execution_count": 170,
   "metadata": {
    "collapsed": false
   },
   "outputs": [],
   "source": [
    "from sklearn.metrics import accuracy_score\n",
    "\n",
    "accuracies = []\n",
    "\n",
    "for i in range(1,50):\n",
    "    x_train, x_test, y_train, y_test = train_test_split(x,y, test_size = 0.5)\n",
    "\n",
    "    basicKNN = BasicKNN(iris.target_names, 3)\n",
    "    basicKNN.fit(x_train, y_train)\n",
    "    predictions = basicKNN.predict(x_test)\n",
    "    accuracy = accuracy_score(y_test, predictions)\n",
    "\n",
    "    accuracies.append(accuracy)"
   ]
  },
  {
   "cell_type": "code",
   "execution_count": 171,
   "metadata": {
    "collapsed": false
   },
   "outputs": [
    {
     "data": {
      "text/plain": [
       "[<matplotlib.lines.Line2D at 0x13562910>]"
      ]
     },
     "execution_count": 171,
     "metadata": {},
     "output_type": "execute_result"
    },
    {
     "data": {
      "image/png": "[encoded data removed]",
      "text/plain": [
       "<matplotlib.figure.Figure at 0x134d8df0>"
      ]
     },
     "metadata": {},
     "output_type": "display_data"
    }
   ],
   "source": [
    "plt.plot(accuracies)"
   ]
  },
  {
   "cell_type": "code",
   "execution_count": null,
   "metadata": {
    "collapsed": true
   },
   "outputs": [],
   "source": []
  }
 ],
 "metadata": {
  "kernelspec": {
   "display_name": "Python 2",
   "language": "python",
   "name": "python2"
  },
  "language_info": {
   "codemirror_mode": {
    "name": "ipython",
    "version": 2
   },
   "file_extension": ".py",
   "mimetype": "text/x-python",
   "name": "python",
   "nbconvert_exporter": "python",
   "pygments_lexer": "ipython2",
   "version": "2.7.11"
  },
  "widgets": {
   "state": {},
   "version": "1.1.2"
  }
 },
 "nbformat": 4,
 "nbformat_minor": 0
}
