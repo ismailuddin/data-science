{
 "cells": [
  {
   "cell_type": "markdown",
   "metadata": {},
   "source": [
    "# Writing our first classifier - Google ML YouTube tutorials"
   ]
  },
  {
   "cell_type": "code",
   "execution_count": 2,
   "metadata": {
    "collapsed": true
   },
   "outputs": [],
   "source": [
    "from sklearn import datasets\n",
    "iris = datasets.load_iris()"
   ]
  },
  {
   "cell_type": "code",
   "execution_count": 3,
   "metadata": {
    "collapsed": true
   },
   "outputs": [],
   "source": [
    "x = iris.data\n",
    "y = iris.target"
   ]
  },
  {
   "cell_type": "code",
   "execution_count": 4,
   "metadata": {
    "collapsed": true
   },
   "outputs": [],
   "source": [
    "from sklearn.cross_validation import train_test_split\n",
    "x_train, x_test, y_train, y_test = train_test_split(x,y, test_size = 0.5)"
   ]
  },
  {
   "cell_type": "markdown",
   "metadata": {},
   "source": [
    "An example of a basic classifier, that just randomly guesses labels. As there are only three possible labels, the accuracy should be around 33%."
   ]
  },
  {
   "cell_type": "code",
   "execution_count": 5,
   "metadata": {
    "collapsed": true
   },
   "outputs": [],
   "source": [
    "import random \n",
    "\n",
    "class ScrappyKNN():\n",
    "    def fit(self, x_train, y_train):\n",
    "        self.x_train = x_train\n",
    "        self.y_train = y_train\n",
    "    \n",
    "    def predict(self, x_test):\n",
    "        predictions = []\n",
    "        for row in x_test:\n",
    "            label = random.choice(self.y_train)\n",
    "            predictions.append(label)\n",
    "        return predictions\n",
    "        "
   ]
  },
  {
   "cell_type": "code",
   "execution_count": 6,
   "metadata": {},
   "outputs": [],
   "source": [
    "from sklearn import tree\n",
    "my_classifier = ScrappyKNN()\n",
    "\n",
    "my_classifier.fit(x_train, y_train)\n",
    "\n",
    "predictions = my_classifier.predict(x_test)"
   ]
  },
  {
   "cell_type": "code",
   "execution_count": 7,
   "metadata": {},
   "outputs": [
    {
     "name": "stdout",
     "output_type": "stream",
     "text": [
      "0.306666666667\n"
     ]
    }
   ],
   "source": [
    "from sklearn.metrics import accuracy_score\n",
    "print accuracy_score(y_test, predictions)"
   ]
  },
  {
   "cell_type": "markdown",
   "metadata": {},
   "source": [
    "## K-nearest neighbour classifier"
   ]
  },
  {
   "cell_type": "markdown",
   "metadata": {},
   "source": [
    "A basic classifier would work by separating the features on a grid by a line, and classifying based upon which group of features it seem to fall under. In some cases, however, a feature might be appear to belong to neither set. In this case, the K-nearest neighbours classifier becomes useful. *K* refers to the number of neighbours it is close to. The value of *k* is typically a user defined constant."
   ]
  },
  {
   "cell_type": "markdown",
   "metadata": {},
   "source": [
    "In its simplest form, a KNN classifier will compute the Euclidean distance between the test sample and the training sample points. The group of sample points, to which there are a *k* number of points closest to the test point is chosen as the label for the test point. If these sample points are imagined as a point on a grid, the axes form the different features of the training sample points. Thus, a training set with 3 features would require a 3D box, and a 4-feature set a hypercube. This makes it harder to visualise, but the Euclidean distance equation remains simple:\n",
    "\n",
    "$$\n",
    "d(a, b) = \\sqrt{(x_{2} - x_{1})^{2} + (y_{2} - y_{1})^{2} +...+ (n_{2} - n_{1})^{2})}\n",
    "$$"
   ]
  },
  {
   "cell_type": "markdown",
   "metadata": {},
   "source": [
    "A simple KNN classifier will be coded below, using a value of *k* of 1."
   ]
  },
  {
   "cell_type": "code",
   "execution_count": 8,
   "metadata": {},
   "outputs": [],
   "source": [
    "from scipy.spatial import distance \n",
    "\n",
    "def euc(a, b):\n",
    "    \"\"\"\n",
    "    Returns Euclidean distance between point a,\n",
    "    the training data, and b, the point from our\n",
    "    test data\n",
    "    \"\"\"\n",
    "    return distance.euclidean(a, b)\n",
    "\n",
    "class SimpleKNN():\n",
    "    \n",
    "\n",
    "    \n",
    "    def fit(self, x_train, y_train):\n",
    "        self.x_train = x_train\n",
    "        self.y_train = y_train\n",
    "    \n",
    "    def predict(self, x_test):\n",
    "        predictions = []\n",
    "        for row in x_test:\n",
    "            label = self.closest(row)\n",
    "            predictions.append(label)\n",
    "        return predictions\n",
    "    \n",
    "    def closest(self, row):\n",
    "        best_dist = euc(row, self.x_train[0])\n",
    "        best_index = 0\n",
    "        \n",
    "        for i in range(1, len(self.x_train)):\n",
    "            dist = euc(row, self.x_train[i])\n",
    "            if dist < best_dist:\n",
    "                best_dist = dist\n",
    "                best_index = i\n",
    "        \n",
    "        return self.y_train[best_index]\n",
    "        \n",
    "    "
   ]
  },
  {
   "cell_type": "code",
   "execution_count": 9,
   "metadata": {},
   "outputs": [],
   "source": [
    "from sklearn import tree\n",
    "classifier_KNN = SimpleKNN()\n",
    "\n",
    "classifier_KNN.fit(x_train, y_train)\n",
    "\n",
    "predictions = classifier_KNN.predict(x_test)"
   ]
  },
  {
   "cell_type": "code",
   "execution_count": 10,
   "metadata": {},
   "outputs": [
    {
     "name": "stdout",
     "output_type": "stream",
     "text": [
      "0.946666666667\n"
     ]
    }
   ],
   "source": [
    "from sklearn.metrics import accuracy_score\n",
    "print accuracy_score(y_test, predictions)"
   ]
  },
  {
   "cell_type": "markdown",
   "metadata": {},
   "source": [
    "## Writing a KNN classifier with a value of *k* > 1"
   ]
  },
  {
   "cell_type": "code",
   "execution_count": 64,
   "metadata": {},
   "outputs": [],
   "source": [
    "from scipy.spatial import distance \n",
    "import numpy as np\n",
    "import pandas as pd\n",
    "\n",
    "def euc(a, b):\n",
    "    \"\"\"\n",
    "    Returns Euclidean distance between point a,\n",
    "    the training data, and b, the point from our\n",
    "    test data\n",
    "    \"\"\"\n",
    "    return distance.euclidean(a, b)\n",
    "\n",
    "euc_apply = np.vectorize(euc)\n",
    "\n",
    "class CustomKNN():\n",
    "    \n",
    "    def __init__(self, labels, k):\n",
    "        self.labels = labels\n",
    "        self.k = k\n",
    "        \n",
    "    \n",
    "    def fit(self, x_train, y_train):\n",
    "        self.x_train = np.array(x_train)\n",
    "        self.y_train = np.array(y_train)\n",
    "        \n",
    "        training_data = pd.DataFrame(x_train)\n",
    "        training_targets = pd.DataFrame(y_train, columns=['Target'])\n",
    "        df = pd.concat([training_data, training_targets], axis=1)\n",
    "        df.sort_values('Target', inplace=True)\n",
    "        \n",
    "        self.targets = map(int, df['Target'].unique().tolist())\n",
    "        \n",
    "        self.trainIndexSortedByTarget = [0] * len(self.targets)\n",
    "        \n",
    "        for target in self.targets:\n",
    "            indx_vals = df.loc[df['Target'] == target].index.tolist()\n",
    "            self.trainIndexSortedByTarget[target] = indx_vals\n",
    "            \n",
    "        \n",
    "    \n",
    "    def predict(self, x_test, k=None):\n",
    "        if k == None:\n",
    "            k = self.k\n",
    "        \n",
    "        predictions = []\n",
    "        for row in x_test:\n",
    "            label = self.closest(row, k)\n",
    "            predictions.append(label)\n",
    "        return predictions\n",
    "    \n",
    "    \n",
    "    def closest(self, row, k):\n",
    "        best_distance = euc(row, self.x_train[0])\n",
    "        best_index = 0\n",
    "        \n",
    "        distByTarget = [0] * len(self.targets)\n",
    "        \n",
    "        for target in self.targets:\n",
    "            targetDistances = []\n",
    "            \n",
    "            for index in self.trainIndexSortedByTarget[target]:\n",
    "                dist = euc(row, self.x_train[index])\n",
    "                targetDistances.append(dist)\n",
    "            \n",
    "            distByTarget[target] = sorted(targetDistances)\n",
    "             \n",
    "        bestTarget = 0\n",
    "        shortestDistance = 100\n",
    "        \n",
    "        for target in self.targets:\n",
    "            k_closest = distByTarget[target][0:k]\n",
    "            avgDist = reduce(lambda a, b: ((a+b)/float(k)), k_closest)\n",
    "            if avgDist < shortestDistance:\n",
    "                shortestDistance = avgDist\n",
    "                bestTarget = target\n",
    "           \n",
    "        return bestTarget\n",
    "        \n",
    "    "
   ]
  },
  {
   "cell_type": "code",
   "execution_count": 65,
   "metadata": {},
   "outputs": [],
   "source": [
    "from sklearn import tree\n",
    "from sklearn.metrics import accuracy_score\n",
    "\n",
    "accuracies = []\n",
    "\n",
    "x_train, x_test, y_train, y_test = train_test_split(x,y, test_size = 0.5)\n",
    "\n",
    "for k in range(1,25):\n",
    "    customClassifier = CustomKNN(iris.target_names, k)\n",
    "    customClassifier.fit(x_train, y_train)\n",
    "    predictions = customClassifier.predict(x_test)\n",
    "    accuracy = accuracy_score(y_test, predictions)\n",
    "\n",
    "    accuracies.append(accuracy)"
   ]
  },
  {
   "cell_type": "code",
   "execution_count": 74,
   "metadata": {},
   "outputs": [
    {
     "name": "stdout",
     "output_type": "stream",
     "text": [
      "0.973333333333\n"
     ]
    }
   ],
   "source": [
    "x_train, x_test, y_train, y_test = train_test_split(x,y, test_size = 0.5)\n",
    "\n",
    "\n",
    "customClassifier = CustomKNN(iris.target_names, 3)\n",
    "customClassifier.fit(x_train, y_train)\n",
    "predictions = customClassifier.predict(x_test)\n",
    "accuracy = accuracy_score(y_test, predictions)\n",
    "\n",
    "print accuracy"
   ]
  },
  {
   "cell_type": "code",
   "execution_count": 15,
   "metadata": {},
   "outputs": [
    {
     "data": {
      "text/plain": [
       "<matplotlib.text.Text at 0x124a1190>"
      ]
     },
     "execution_count": 15,
     "metadata": {},
     "output_type": "execute_result"
    },
    {
     "data": {
      "image/png": "[encoded data removed]",
      "text/plain": [
       "<matplotlib.figure.Figure at 0x1248b410>"
      ]
     },
     "metadata": {},
     "output_type": "display_data"
    }
   ],
   "source": [
    "%matplotlib inline\n",
    "import matplotlib.pyplot as plt\n",
    "\n",
    "k_value = range(1, 25)\n",
    "plt.plot(k_value,accuracies)\n",
    "plt.xlabel(\"$k$ value\")"
   ]
  },
  {
   "cell_type": "code",
   "execution_count": null,
   "metadata": {
    "collapsed": true
   },
   "outputs": [],
   "source": []
  }
 ],
 "metadata": {
  "kernelspec": {
   "display_name": "Python 3",
   "language": "python",
   "name": "python3"
  },
  "language_info": {
   "codemirror_mode": {
    "name": "ipython",
    "version": 3
   },
   "file_extension": ".py",
   "mimetype": "text/x-python",
   "name": "python",
   "nbconvert_exporter": "python",
   "pygments_lexer": "ipython3",
   "version": "3.6.4"
  },
  "widgets": {
   "state": {},
   "version": "1.1.2"
  }
 },
 "nbformat": 4,
 "nbformat_minor": 1
}
