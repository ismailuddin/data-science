{
 "cells": [
  {
   "cell_type": "markdown",
   "metadata": {},
   "source": [
    "# Writing a pipeline - Google ML YouTube tutorials"
   ]
  },
  {
   "cell_type": "code",
   "execution_count": 1,
   "metadata": {
    "collapsed": true
   },
   "outputs": [],
   "source": [
    "from sklearn import datasets\n",
    "iris = datasets.load_iris()"
   ]
  },
  {
   "cell_type": "markdown",
   "metadata": {},
   "source": [
    "The features set in a ML classifier can be thought of as the variable `x` in an equation, and the output of the equation (values of `y`) being the labels.\n",
    "\n",
    "$$\n",
    "y = f(x)\n",
    "$$"
   ]
  },
  {
   "cell_type": "code",
   "execution_count": 2,
   "metadata": {
    "collapsed": true
   },
   "outputs": [],
   "source": [
    "x = iris.data\n",
    "y = iris.target"
   ]
  },
  {
   "cell_type": "markdown",
   "metadata": {},
   "source": [
    "For any ML classifier constructed, a small subset of the training data should always be partitioned to be used as a test to calculate the accuracy of the classifier. The `train_test_split()` provides a way to partition the training data (features and associated labels) into two sets."
   ]
  },
  {
   "cell_type": "code",
   "execution_count": 23,
   "metadata": {
    "collapsed": true
   },
   "outputs": [],
   "source": [
    "from sklearn.cross_validation import train_test_split\n",
    "x_train, x_test, y_train, y_test = train_test_split(x,y, test_size = 0.5)"
   ]
  },
  {
   "cell_type": "code",
   "execution_count": 4,
   "metadata": {
    "collapsed": false
   },
   "outputs": [
    {
     "name": "stdout",
     "output_type": "stream",
     "text": [
      "[1 2 2 0 0 0 1 1 0 2 1 2 1 1 0 0 2 0 2 1 0 2 0 2 2 2 2 2 1 0 2 0 0 0 2 1 2\n",
      " 1 1 2 0 1 0 1 0 1 1 0 0 2 1 0 1 0 0 0 2 0 1 1 1 0 0 1 0 0 0 2 2 1 2 0 2 2\n",
      " 1]\n"
     ]
    }
   ],
   "source": [
    "from sklearn import tree\n",
    "my_classifier = tree.DecisionTreeClassifier()\n",
    "\n",
    "my_classifier.fit(x_train, y_train)\n",
    "\n",
    "predictions = my_classifier.predict(x_test)\n",
    "print predictions"
   ]
  },
  {
   "cell_type": "markdown",
   "metadata": {},
   "source": [
    "`sklearn` provides a metrics function for calculating the accuracy of the ML classifier, using the testing data (partitioned from the testing data, `x_test`) with the known labels of this dataset (`y_test`)."
   ]
  },
  {
   "cell_type": "code",
   "execution_count": 6,
   "metadata": {
    "collapsed": false
   },
   "outputs": [
    {
     "name": "stdout",
     "output_type": "stream",
     "text": [
      "0.946666666667\n"
     ]
    }
   ],
   "source": [
    "from sklearn.metrics import accuracy_score\n",
    "print accuracy_score(y_test, predictions)"
   ]
  },
  {
   "cell_type": "markdown",
   "metadata": {},
   "source": [
    "## K nearest neighbours\n",
    "ML classifiers can be also constructed through other methods, such as the k-nearest neighbours algorithm."
   ]
  },
  {
   "cell_type": "code",
   "execution_count": 27,
   "metadata": {
    "collapsed": false
   },
   "outputs": [
    {
     "name": "stdout",
     "output_type": "stream",
     "text": [
      "[1 2 2 0 0 0 1 1 0 2 1 2 1 1 0 0 2 0 2 1 0 2 0 2 2 2 2 2 1 0 2 0 0 0 2 1 2\n",
      " 1 1 2 0 1 0 1 0 1 1 0 0 2 1 0 1 0 0 0 2 0 1 1 1 0 0 1 0 0 0 2 2 1 2 0 2 2\n",
      " 1]\n"
     ]
    }
   ],
   "source": [
    "from sklearn.neighbors import KNeighborsClassifier\n",
    "my_classifier = KNeighborsClassifier()\n",
    "\n",
    "my_classifier.fit(x_train, y_train)\n",
    "\n",
    "k_predictions = my_classifier.predict(x_test)\n",
    "print predictions"
   ]
  },
  {
   "cell_type": "code",
   "execution_count": 28,
   "metadata": {
    "collapsed": false
   },
   "outputs": [
    {
     "name": "stdout",
     "output_type": "stream",
     "text": [
      "0.973333333333\n"
     ]
    }
   ],
   "source": [
    "print accuracy_score(y_test, k_predictions)"
   ]
  },
  {
   "cell_type": "markdown",
   "metadata": {},
   "source": [
    "A high level example of how classifier works can be illustrated by imagining the features of the training data as points on a grid. The classifier's job is to draw a line between the features of the different labels. If the line separating the data can be described by an equation, such as $y = mx + b$, the classifier can be thought to be iteratively adjusting the coefficients of the equation with each data point from the training data. For example, at the $n^{th}$ data point during learning, if the classifier predicts the label incorrectly, the coefficients can be adjusted until it gives a correct classification. This adjustment continues with every data point, until it correctly classifies all the data in the training set."
   ]
  },
  {
   "cell_type": "code",
   "execution_count": null,
   "metadata": {
    "collapsed": true
   },
   "outputs": [],
   "source": []
  }
 ],
 "metadata": {
  "kernelspec": {
   "display_name": "Python 2",
   "language": "python",
   "name": "python2"
  },
  "language_info": {
   "codemirror_mode": {
    "name": "ipython",
    "version": 2
   },
   "file_extension": ".py",
   "mimetype": "text/x-python",
   "name": "python",
   "nbconvert_exporter": "python",
   "pygments_lexer": "ipython2",
   "version": "2.7.11"
  },
  "widgets": {
   "state": {},
   "version": "1.1.2"
  }
 },
 "nbformat": 4,
 "nbformat_minor": 0
}
