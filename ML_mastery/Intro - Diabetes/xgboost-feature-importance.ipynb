{
 "cells": [
  {
   "cell_type": "markdown",
   "metadata": {},
   "source": [
    "# XGBoost feature importance"
   ]
  },
  {
   "cell_type": "code",
   "execution_count": 2,
   "metadata": {},
   "outputs": [
    {
     "name": "stderr",
     "output_type": "stream",
     "text": [
      "/opt/conda/lib/python3.5/site-packages/sklearn/cross_validation.py:43: DeprecationWarning: This module was deprecated in version 0.18 in favor of the model_selection module into which all the refactored classes and functions are moved. Also note that the interface of the new CV iterators are different from that of this module. This module will be removed in 0.20.\n",
      "  \"This module will be removed in 0.20.\", DeprecationWarning)\n"
     ]
    }
   ],
   "source": [
    "from xgboost import XGBClassifier\n",
    "import numpy as np\n",
    "from sklearn.cross_validation import train_test_split\n",
    "from sklearn.metrics import accuracy_score\n",
    "import pandas as pd"
   ]
  },
  {
   "cell_type": "code",
   "execution_count": 3,
   "metadata": {},
   "outputs": [],
   "source": [
    "data = pd.read_csv(\"pima-indians-diabetes.data.csv\", header=None)\n",
    "features = data.loc[:,0:7]\n",
    "labels = data.loc[:,8]"
   ]
  },
  {
   "cell_type": "markdown",
   "metadata": {},
   "source": [
    "Splitting data for cross-validation:"
   ]
  },
  {
   "cell_type": "code",
   "execution_count": 4,
   "metadata": {
    "collapsed": true
   },
   "outputs": [],
   "source": [
    "seed, test_size = 7, 0.33\n",
    "X_train, X_test, Y_train, Y_test = train_test_split(features, labels,\n",
    "                                                   test_size=test_size,\n",
    "                                                   random_state=seed)"
   ]
  },
  {
   "cell_type": "code",
   "execution_count": 5,
   "metadata": {},
   "outputs": [
    {
     "data": {
      "text/plain": [
       "XGBClassifier(base_score=0.5, colsample_bylevel=1, colsample_bytree=1,\n",
       "       gamma=0, learning_rate=0.1, max_delta_step=0, max_depth=3,\n",
       "       min_child_weight=1, missing=None, n_estimators=100, nthread=-1,\n",
       "       objective='binary:logistic', reg_alpha=0, reg_lambda=1,\n",
       "       scale_pos_weight=1, seed=0, silent=True, subsample=1)"
      ]
     },
     "execution_count": 5,
     "metadata": {},
     "output_type": "execute_result"
    }
   ],
   "source": [
    "model = XGBClassifier()\n",
    "model.fit(X_train, Y_train)"
   ]
  },
  {
   "cell_type": "code",
   "execution_count": 10,
   "metadata": {},
   "outputs": [
    {
     "name": "stdout",
     "output_type": "stream",
     "text": [
      "Accuracy: 77.95%\n"
     ]
    }
   ],
   "source": [
    "Y_pred = model.predict(X_test)\n",
    "predictions = [round(value) for value in Y_pred]\n",
    "accuracy = accuracy_score(Y_test, predictions)\n",
    "print(\"Accuracy: %.2f%%\" % (accuracy * 100.0))"
   ]
  },
  {
   "cell_type": "code",
   "execution_count": 6,
   "metadata": {},
   "outputs": [
    {
     "name": "stdout",
     "output_type": "stream",
     "text": [
      "[ 0.07094595  0.1858108   0.08952703  0.08445946  0.07263514  0.16047297\n",
      "  0.12837838  0.20777027]\n"
     ]
    }
   ],
   "source": [
    "print(model.feature_importances_)"
   ]
  },
  {
   "cell_type": "code",
   "execution_count": 7,
   "metadata": {},
   "outputs": [
    {
     "data": {
      "image/png": "[encoded data removed]",
      "text/plain": [
       "<matplotlib.figure.Figure at 0x7f797d9fae10>"
      ]
     },
     "metadata": {},
     "output_type": "display_data"
    }
   ],
   "source": [
    "%matplotlib inline\n",
    "import matplotlib.pyplot as plt\n",
    "import seaborn as sns\n",
    "\n",
    "ftr_importances = pd.DataFrame([range(len(model.feature_importances_)),model.feature_importances_]).T\n",
    "ftr_importances = ftr_importances.sort_values(by=1, ascending=0)\n",
    "\n",
    "sns.barplot(x=ftr_importances[0], y=ftr_importances[1].values)\n",
    "plt.xticks(range(0, len(ftr_importances)), ftr_importances[0].values);"
   ]
  },
  {
   "cell_type": "code",
   "execution_count": 9,
   "metadata": {},
   "outputs": [
    {
     "data": {
      "text/plain": [
       "<matplotlib.axes._subplots.AxesSubplot at 0x7f797cef6f60>"
      ]
     },
     "execution_count": 9,
     "metadata": {},
     "output_type": "execute_result"
    },
    {
     "data": {
      "image/png": "[encoded data removed]",
      "text/plain": [
       "<matplotlib.figure.Figure at 0x7f797cef6400>"
      ]
     },
     "metadata": {},
     "output_type": "display_data"
    }
   ],
   "source": [
    "from xgboost import plot_importance\n",
    "plot_importance(model)"
   ]
  },
  {
   "cell_type": "markdown",
   "metadata": {},
   "source": [
    "We can use `SelectFromModel` from `sklearn` to generate a new training data set, with the best features retained, based on a threshold on feature importance. To select the best value for the threshold, we can iterate through a selection of thresholds:"
   ]
  },
  {
   "cell_type": "code",
   "execution_count": 13,
   "metadata": {},
   "outputs": [
    {
     "name": "stdout",
     "output_type": "stream",
     "text": [
      "Threshold: 0.071, n=8, accuracy: 77.95 %\n",
      "Threshold: 0.073, n=7, accuracy: 76.38 %\n",
      "Threshold: 0.084, n=6, accuracy: 77.56 %\n",
      "Threshold: 0.090, n=5, accuracy: 76.38 %\n",
      "Threshold: 0.128, n=4, accuracy: 76.38 %\n",
      "Threshold: 0.160, n=3, accuracy: 74.80 %\n",
      "Threshold: 0.186, n=2, accuracy: 71.65 %\n",
      "Threshold: 0.208, n=1, accuracy: 63.78 %\n"
     ]
    }
   ],
   "source": [
    "from sklearn.feature_selection import SelectFromModel\n",
    "\n",
    "thresholds = np.sort(model.feature_importances_)\n",
    "\n",
    "for threshold in thresholds:\n",
    "    # Select the best features from an initial pre-fit model\n",
    "    selection = SelectFromModel(model, threshold=threshold, prefit=True)\n",
    "    X_train_select = selection.transform(X_train)\n",
    "    \n",
    "    # Train a new model using the best features selected\n",
    "    selection_model = XGBClassifier()\n",
    "    selection_model.fit(X_train_select, Y_train)\n",
    "    \n",
    "    # Transform the test data to include the best features\n",
    "    X_test_select = selection.transform(X_test)\n",
    "    \n",
    "    # Make predictions using the new model\n",
    "    Y_pred = selection_model.predict(X_test_select)\n",
    "    predictions = [round(value) for value in Y_pred]\n",
    "    accuracy = accuracy_score(Y_test, predictions)\n",
    "    print(\"Threshold: %.3f, n=%d, accuracy: %.2f %%\" % (threshold, X_train_select.shape[1], accuracy*100.0))"
   ]
  },
  {
   "cell_type": "code",
   "execution_count": null,
   "metadata": {
    "collapsed": true
   },
   "outputs": [],
   "source": []
  }
 ],
 "metadata": {
  "anaconda-cloud": {},
  "kernelspec": {
   "display_name": "Python 3",
   "language": "python",
   "name": "python3"
  },
  "language_info": {
   "codemirror_mode": {
    "name": "ipython",
    "version": 3
   },
   "file_extension": ".py",
   "mimetype": "text/x-python",
   "name": "python",
   "nbconvert_exporter": "python",
   "pygments_lexer": "ipython3",
   "version": "3.6.3"
  }
 },
 "nbformat": 4,
 "nbformat_minor": 1
}
