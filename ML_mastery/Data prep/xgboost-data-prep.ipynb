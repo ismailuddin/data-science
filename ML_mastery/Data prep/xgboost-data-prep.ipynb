{
 "cells": [
  {
   "cell_type": "markdown",
   "metadata": {},
   "source": [
    "# Data preparation for  XGBoost"
   ]
  },
  {
   "cell_type": "code",
   "execution_count": 1,
   "metadata": {},
   "outputs": [
    {
     "name": "stderr",
     "output_type": "stream",
     "text": [
      "/opt/conda/lib/python3.5/site-packages/sklearn/cross_validation.py:43: DeprecationWarning: This module was deprecated in version 0.18 in favor of the model_selection module into which all the refactored classes and functions are moved. Also note that the interface of the new CV iterators are different from that of this module. This module will be removed in 0.20.\n",
      "  \"This module will be removed in 0.20.\", DeprecationWarning)\n"
     ]
    }
   ],
   "source": [
    "from xgboost import XGBClassifier\n",
    "import numpy as np\n",
    "from sklearn.cross_validation import train_test_split\n",
    "from sklearn.metrics import accuracy_score\n",
    "import pandas as pd\n",
    "from sklearn.preprocessing import LabelEncoder"
   ]
  },
  {
   "cell_type": "code",
   "execution_count": 75,
   "metadata": {},
   "outputs": [],
   "source": [
    "data = pd.read_csv(\"iris.data.csv\", header=None)\n",
    "features = data.loc[:,0:3]\n",
    "labels = data.loc[:,4]"
   ]
  },
  {
   "cell_type": "markdown",
   "metadata": {},
   "source": [
    "XGBoost requires numeric classification labels, so we must encode them"
   ]
  },
  {
   "cell_type": "code",
   "execution_count": 76,
   "metadata": {},
   "outputs": [],
   "source": [
    "label_encoder = LabelEncoder()\n",
    "label_encoder = label_encoder.fit(labels)\n",
    "label_encoded_y = label_encoder.transform(labels)"
   ]
  },
  {
   "cell_type": "markdown",
   "metadata": {},
   "source": [
    "Splitting data for cross-validation:"
   ]
  },
  {
   "cell_type": "code",
   "execution_count": 12,
   "metadata": {
    "collapsed": true
   },
   "outputs": [],
   "source": [
    "seed, test_size = 7, 0.33\n",
    "X_train, X_test, Y_train, Y_test = train_test_split(features, label_encoded_y,\n",
    "                                                   test_size=test_size,\n",
    "                                                   random_state=seed)"
   ]
  },
  {
   "cell_type": "code",
   "execution_count": 13,
   "metadata": {},
   "outputs": [
    {
     "data": {
      "text/plain": [
       "XGBClassifier(base_score=0.5, colsample_bylevel=1, colsample_bytree=1,\n",
       "       gamma=0, learning_rate=0.1, max_delta_step=0, max_depth=3,\n",
       "       min_child_weight=1, missing=None, n_estimators=100, nthread=-1,\n",
       "       objective='multi:softprob', reg_alpha=0, reg_lambda=1,\n",
       "       scale_pos_weight=1, seed=0, silent=True, subsample=1)"
      ]
     },
     "execution_count": 13,
     "metadata": {},
     "output_type": "execute_result"
    }
   ],
   "source": [
    "model = XGBClassifier()\n",
    "model.fit(X_train, Y_train)"
   ]
  },
  {
   "cell_type": "markdown",
   "metadata": {},
   "source": [
    "\"The XGBoost model is configured to automatically model the multiclass classification problem using the multi:softprob objective, a variation on the softmax loss function to model class probabilities. This suggests that internally, that the output class is converted into a one hot type encoding automatically.\""
   ]
  },
  {
   "cell_type": "markdown",
   "metadata": {},
   "source": [
    "Make predictions using model"
   ]
  },
  {
   "cell_type": "code",
   "execution_count": 14,
   "metadata": {},
   "outputs": [],
   "source": [
    "Y_pred = model.predict(X_test)\n",
    "predictions = [round(value) for value in Y_pred]"
   ]
  },
  {
   "cell_type": "code",
   "execution_count": 15,
   "metadata": {},
   "outputs": [
    {
     "name": "stdout",
     "output_type": "stream",
     "text": [
      "Accuracy: 92.0\n"
     ]
    }
   ],
   "source": [
    "accuracy = accuracy_score(Y_test, predictions)\n",
    "print(\"Accuracy: {}\".format(accuracy*100.0))"
   ]
  },
  {
   "cell_type": "markdown",
   "metadata": {},
   "source": [
    "## Categorical data sets - Breast cancer"
   ]
  },
  {
   "cell_type": "code",
   "execution_count": 2,
   "metadata": {},
   "outputs": [
    {
     "name": "stdout",
     "output_type": "stream",
     "text": [
      "datasets-uci-breast-cancer.h5  iris.data.csv  xgboost-data-prep.ipynb\r\n"
     ]
    }
   ],
   "source": [
    "!ls"
   ]
  },
  {
   "cell_type": "code",
   "execution_count": 49,
   "metadata": {},
   "outputs": [],
   "source": [
    "import h5py\n",
    "f = h5py.File('datasets-uci-breast-cancer.h5', 'r')\n",
    "# Data stores\n",
    "keys = [key for key in f.keys()]\n",
    "\n",
    "# Columns\n",
    "columns = [column for column in f['data']]\n",
    "\n"
   ]
  },
  {
   "cell_type": "code",
   "execution_count": 50,
   "metadata": {},
   "outputs": [],
   "source": [
    "breast_data = []\n",
    "\n",
    "for column in columns:\n",
    "    column_data = []\n",
    "    column_data.append(column)\n",
    "    for entry in f[keys[0]][column]:\n",
    "        column_data.append(entry.decode().replace(\"'\",\"\"))\n",
    "    \n",
    "    breast_data.append(column_data)\n",
    "    \n",
    "f.close()"
   ]
  },
  {
   "cell_type": "code",
   "execution_count": 60,
   "metadata": {},
   "outputs": [],
   "source": [
    "breast_df = pd.DataFrame(breast_data).T"
   ]
  },
  {
   "cell_type": "code",
   "execution_count": 65,
   "metadata": {},
   "outputs": [],
   "source": [
    "breast_df.columns = breast_df.iloc[0]\n",
    "breast_df.drop(breast_df.index[0], inplace=True)"
   ]
  },
  {
   "cell_type": "code",
   "execution_count": 81,
   "metadata": {},
   "outputs": [
    {
     "data": {
      "text/html": [
       "<div>\n",
       "<table border=\"1\" class=\"dataframe\">\n",
       "  <thead>\n",
       "    <tr style=\"text-align: right;\">\n",
       "      <th></th>\n",
       "      <th>Class</th>\n",
       "      <th>age</th>\n",
       "      <th>breast</th>\n",
       "      <th>breast-quad</th>\n",
       "      <th>deg-malig</th>\n",
       "      <th>inv-nodes</th>\n",
       "      <th>irradiat</th>\n",
       "      <th>menopause</th>\n",
       "      <th>node-caps</th>\n",
       "      <th>tumor-size</th>\n",
       "    </tr>\n",
       "  </thead>\n",
       "  <tbody>\n",
       "    <tr>\n",
       "      <th>1</th>\n",
       "      <td>recurrence-events</td>\n",
       "      <td>40-49</td>\n",
       "      <td>right</td>\n",
       "      <td>left_up</td>\n",
       "      <td>3</td>\n",
       "      <td>0-2</td>\n",
       "      <td>no</td>\n",
       "      <td>premeno</td>\n",
       "      <td>yes</td>\n",
       "      <td>15-19</td>\n",
       "    </tr>\n",
       "    <tr>\n",
       "      <th>2</th>\n",
       "      <td>no-recurrence-events</td>\n",
       "      <td>50-59</td>\n",
       "      <td>right</td>\n",
       "      <td>central</td>\n",
       "      <td>1</td>\n",
       "      <td>0-2</td>\n",
       "      <td>no</td>\n",
       "      <td>ge40</td>\n",
       "      <td>no</td>\n",
       "      <td>15-19</td>\n",
       "    </tr>\n",
       "    <tr>\n",
       "      <th>3</th>\n",
       "      <td>recurrence-events</td>\n",
       "      <td>50-59</td>\n",
       "      <td>left</td>\n",
       "      <td>left_low</td>\n",
       "      <td>2</td>\n",
       "      <td>0-2</td>\n",
       "      <td>no</td>\n",
       "      <td>ge40</td>\n",
       "      <td>no</td>\n",
       "      <td>35-39</td>\n",
       "    </tr>\n",
       "    <tr>\n",
       "      <th>4</th>\n",
       "      <td>no-recurrence-events</td>\n",
       "      <td>40-49</td>\n",
       "      <td>right</td>\n",
       "      <td>left_low</td>\n",
       "      <td>3</td>\n",
       "      <td>0-2</td>\n",
       "      <td>yes</td>\n",
       "      <td>premeno</td>\n",
       "      <td>yes</td>\n",
       "      <td>35-39</td>\n",
       "    </tr>\n",
       "    <tr>\n",
       "      <th>5</th>\n",
       "      <td>recurrence-events</td>\n",
       "      <td>40-49</td>\n",
       "      <td>left</td>\n",
       "      <td>right_up</td>\n",
       "      <td>2</td>\n",
       "      <td>3-5</td>\n",
       "      <td>no</td>\n",
       "      <td>premeno</td>\n",
       "      <td>yes</td>\n",
       "      <td>30-34</td>\n",
       "    </tr>\n",
       "  </tbody>\n",
       "</table>\n",
       "</div>"
      ],
      "text/plain": [
       "0                 Class    age breast breast-quad deg-malig inv-nodes  \\\n",
       "1     recurrence-events  40-49  right     left_up         3       0-2   \n",
       "2  no-recurrence-events  50-59  right     central         1       0-2   \n",
       "3     recurrence-events  50-59   left    left_low         2       0-2   \n",
       "4  no-recurrence-events  40-49  right    left_low         3       0-2   \n",
       "5     recurrence-events  40-49   left    right_up         2       3-5   \n",
       "\n",
       "0 irradiat menopause node-caps tumor-size  \n",
       "1       no   premeno       yes      15-19  \n",
       "2       no      ge40        no      15-19  \n",
       "3       no      ge40        no      35-39  \n",
       "4      yes   premeno       yes      35-39  \n",
       "5       no   premeno       yes      30-34  "
      ]
     },
     "execution_count": 81,
     "metadata": {},
     "output_type": "execute_result"
    }
   ],
   "source": [
    "breast_df.head()"
   ]
  },
  {
   "cell_type": "markdown",
   "metadata": {},
   "source": [
    "The `sklearn` label encoder will simply encode each unique label within the column using a new integer. The classifier / model may interpret the numbers as having a meaningful relationship as integers. As this is intrue, the labels must be encoded as binary variables."
   ]
  },
  {
   "cell_type": "code",
   "execution_count": 83,
   "metadata": {},
   "outputs": [],
   "source": [
    "breast_encoded = pd.get_dummies(breast_df.drop('Class', axis=1));"
   ]
  },
  {
   "cell_type": "markdown",
   "metadata": {},
   "source": [
    "The encoding feature, however, can be used for the labels / class."
   ]
  },
  {
   "cell_type": "code",
   "execution_count": 88,
   "metadata": {
    "collapsed": true
   },
   "outputs": [],
   "source": [
    "breast_label_encoder = LabelEncoder()\n",
    "breast_label_encoder = label_encoder.fit(breast_df['Class'])\n",
    "breast_classes_encoded = label_encoder.transform(breast_df['Class'])"
   ]
  },
  {
   "cell_type": "code",
   "execution_count": 89,
   "metadata": {},
   "outputs": [],
   "source": [
    "seed, test_size = 7, 0.33\n",
    "X_train, X_test, Y_train, Y_test = train_test_split(breast_encoded, breast_classes_encoded,\n",
    "                                                   test_size=test_size,\n",
    "                                                   random_state=seed)"
   ]
  },
  {
   "cell_type": "code",
   "execution_count": 90,
   "metadata": {},
   "outputs": [
    {
     "data": {
      "text/plain": [
       "XGBClassifier(base_score=0.5, colsample_bylevel=1, colsample_bytree=1,\n",
       "       gamma=0, learning_rate=0.1, max_delta_step=0, max_depth=3,\n",
       "       min_child_weight=1, missing=None, n_estimators=100, nthread=-1,\n",
       "       objective='binary:logistic', reg_alpha=0, reg_lambda=1,\n",
       "       scale_pos_weight=1, seed=0, silent=True, subsample=1)"
      ]
     },
     "execution_count": 90,
     "metadata": {},
     "output_type": "execute_result"
    }
   ],
   "source": [
    "model = XGBClassifier()\n",
    "model.fit(X_train, Y_train)"
   ]
  },
  {
   "cell_type": "code",
   "execution_count": 91,
   "metadata": {
    "collapsed": true
   },
   "outputs": [],
   "source": [
    "Y_pred = model.predict(X_test)\n",
    "predictions = [round(value) for value in Y_pred]"
   ]
  },
  {
   "cell_type": "code",
   "execution_count": 92,
   "metadata": {},
   "outputs": [
    {
     "name": "stdout",
     "output_type": "stream",
     "text": [
      "Accuracy: 71.57894736842105\n"
     ]
    }
   ],
   "source": [
    "accuracy = accuracy_score(Y_test, predictions)\n",
    "print(\"Accuracy: {}\".format(accuracy*100.0))"
   ]
  },
  {
   "cell_type": "code",
   "execution_count": null,
   "metadata": {
    "collapsed": true
   },
   "outputs": [],
   "source": []
  }
 ],
 "metadata": {
  "anaconda-cloud": {},
  "kernelspec": {
   "display_name": "Python 3",
   "language": "python",
   "name": "python3"
  },
  "language_info": {
   "codemirror_mode": {
    "name": "ipython",
    "version": 3
   },
   "file_extension": ".py",
   "mimetype": "text/x-python",
   "name": "python",
   "nbconvert_exporter": "python",
   "pygments_lexer": "ipython3",
   "version": "3.6.3"
  }
 },
 "nbformat": 4,
 "nbformat_minor": 1
}
